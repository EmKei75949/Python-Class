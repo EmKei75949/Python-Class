{
 "cells": [
  {
   "cell_type": "code",
   "execution_count": null,
   "id": "0a934953",
   "metadata": {},
   "outputs": [],
   "source": [
    "# 파이썬을 이용한 비트코인 가격 조회 윈도우 프로그램 만들기\n",
    "\n",
    "# PyQt 를 이용한 윈도우 앱 만들기\n",
    "\n",
    "# Qt Desinger 로 쉽고 편하게 윈도우를 구성할 수 있다.\n",
    "\n",
    "# c:/Users/EZEN/anaconda3/Library/bin"
   ]
  },
  {
   "cell_type": "code",
   "execution_count": 1,
   "id": "bf6926b8",
   "metadata": {},
   "outputs": [
    {
     "ename": "KeyboardInterrupt",
     "evalue": "",
     "output_type": "error",
     "traceback": [
      "\u001b[1;31m---------------------------------------------------------------------------\u001b[0m",
      "\u001b[1;31mKeyboardInterrupt\u001b[0m                         Traceback (most recent call last)",
      "\u001b[1;32m~\\AppData\\Local\\Temp\\ipykernel_3732\\1747347391.py\u001b[0m in \u001b[0;36m<module>\u001b[1;34m\u001b[0m\n\u001b[0;32m      6\u001b[0m \u001b[0mlabel\u001b[0m\u001b[1;33m.\u001b[0m\u001b[0mshow\u001b[0m\u001b[1;33m(\u001b[0m\u001b[1;33m)\u001b[0m\u001b[1;33m\u001b[0m\u001b[1;33m\u001b[0m\u001b[0m\n\u001b[0;32m      7\u001b[0m \u001b[1;33m\u001b[0m\u001b[0m\n\u001b[1;32m----> 8\u001b[1;33m \u001b[0mapp\u001b[0m\u001b[1;33m.\u001b[0m\u001b[0mexec_\u001b[0m\u001b[1;33m(\u001b[0m\u001b[1;33m)\u001b[0m\u001b[1;33m\u001b[0m\u001b[1;33m\u001b[0m\u001b[0m\n\u001b[0m",
      "\u001b[1;31mKeyboardInterrupt\u001b[0m: "
     ]
    }
   ],
   "source": [
    "import sys                            # 윈도우 시스템 접근\n",
    "from PyQt5.QtWidgets import *        # PyQt5 모듈 읽어오기\n",
    "\n",
    "app = QApplication(sys.argv)          # 윈도우 창 띄우기\n",
    "label = QLabel(\"hello world\")         # 창에 글자 넣기\n",
    "label.show()                          # 글자 보여주기\n",
    "\n",
    "app.exec_()                           # 윈도우 창을 계속 유지시켜주는 코드"
   ]
  },
  {
   "cell_type": "code",
   "execution_count": 1,
   "id": "c76d0890",
   "metadata": {},
   "outputs": [
    {
     "data": {
      "text/plain": [
       "0"
      ]
     },
     "execution_count": 1,
     "metadata": {},
     "output_type": "execute_result"
    }
   ],
   "source": [
    "import sys                            \n",
    "from PyQt5.QtWidgets import *\n",
    "\n",
    "class MyWindow(QMainWindow) :\n",
    "    def __init__(self) :\n",
    "        super().__init__()\n",
    "        self.setGeometry(100,200,300,400)  # 너비 300 높이 400\n",
    "        \n",
    "app = QApplication(sys.argv)          \n",
    "window  = MyWindow()\n",
    "window.show()\n",
    "\n",
    "app.exec_()"
   ]
  },
  {
   "cell_type": "code",
   "execution_count": 1,
   "id": "d6832606",
   "metadata": {},
   "outputs": [
    {
     "data": {
      "text/plain": [
       "0"
      ]
     },
     "execution_count": 1,
     "metadata": {},
     "output_type": "execute_result"
    }
   ],
   "source": [
    "import sys                            \n",
    "from PyQt5.QtWidgets import *\n",
    "\n",
    "class MyWindow(QMainWindow) :\n",
    "    def __init__(self) :\n",
    "        super().__init__()\n",
    "        self.setGeometry(100,200,300,400) \n",
    "        self.setWindowTitle(\"!헬로우 월드!\")  # 타이틀 추가\n",
    "        \n",
    "app = QApplication(sys.argv)\n",
    "window  = MyWindow()\n",
    "window.show()\n",
    "\n",
    "app.exec_()"
   ]
  },
  {
   "cell_type": "code",
   "execution_count": 1,
   "id": "ff7aad7a",
   "metadata": {},
   "outputs": [
    {
     "data": {
      "text/plain": [
       "0"
      ]
     },
     "execution_count": 1,
     "metadata": {},
     "output_type": "execute_result"
    }
   ],
   "source": [
    "import sys                            \n",
    "from PyQt5.QtWidgets import *\n",
    "from PyQt5.QtGui import *\n",
    "\n",
    "class MyWindow(QMainWindow) :\n",
    "    def __init__(self) :\n",
    "        super().__init__()\n",
    "        self.setGeometry(100,200,300,400) \n",
    "        self.setWindowTitle(\"!헬로우 월드!\")\n",
    "    \n",
    "        btn = QPushButton(\"버튼\", self)   # 버튼 추가\n",
    "        \n",
    "app = QApplication(sys.argv)\n",
    "window  = MyWindow()\n",
    "window.show()\n",
    "\n",
    "app.exec_()"
   ]
  },
  {
   "cell_type": "code",
   "execution_count": 1,
   "id": "4e31f00a",
   "metadata": {},
   "outputs": [
    {
     "data": {
      "text/plain": [
       "0"
      ]
     },
     "execution_count": 1,
     "metadata": {},
     "output_type": "execute_result"
    }
   ],
   "source": [
    "# QtDesinger 사용하기\n",
    "\n",
    "import sys                            \n",
    "from PyQt5.QtWidgets import *\n",
    "from PyQt5 import uic\n",
    "\n",
    "form_class = uic.loadUiType(\"mywindow.ui\")[0]\n",
    "\n",
    "class MyWindow(QMainWindow, form_class) :\n",
    "    def __init__(self) :\n",
    "        super().__init__()\n",
    "        self.setupUi(self)\n",
    "\n",
    "app = QApplication(sys.argv)\n",
    "window  = MyWindow()\n",
    "window.show()\n",
    "\n",
    "app.exec_()"
   ]
  },
  {
   "cell_type": "code",
   "execution_count": 1,
   "id": "6b0686e1",
   "metadata": {},
   "outputs": [
    {
     "name": "stdout",
     "output_type": "stream",
     "text": [
      "버튼이 클릭되었네요\n"
     ]
    },
    {
     "data": {
      "text/plain": [
       "0"
      ]
     },
     "execution_count": 1,
     "metadata": {},
     "output_type": "execute_result"
    }
   ],
   "source": [
    "# 버튼 동작 확인\n",
    "\n",
    "import sys                            \n",
    "from PyQt5.QtWidgets import *\n",
    "from PyQt5 import uic\n",
    "\n",
    "form_class = uic.loadUiType(\"mywindow.ui\")[0]\n",
    "\n",
    "class MyWindow(QMainWindow, form_class) :\n",
    "    def __init__(self) :\n",
    "        super().__init__()\n",
    "        self.setupUi(self)\n",
    "        self.pushButton.clicked.connect(self.btn_clicked)\n",
    "        \n",
    "    def btn_clicked(self) :\n",
    "        print(\"버튼이 클릭되었네요\")\n",
    "\n",
    "app = QApplication(sys.argv)\n",
    "window  = MyWindow()\n",
    "window.show()\n",
    "\n",
    "app.exec_()"
   ]
  },
  {
   "cell_type": "code",
   "execution_count": 1,
   "id": "676bc718",
   "metadata": {},
   "outputs": [
    {
     "name": "stdout",
     "output_type": "stream",
     "text": [
      "Collecting pybithumb\n",
      "  Downloading pybithumb-1.0.21-py3-none-any.whl (9.9 kB)\n",
      "Collecting datetime\n",
      "  Downloading DateTime-4.7-py2.py3-none-any.whl (52 kB)\n",
      "     ---------------------------------------- 52.2/52.2 kB ? eta 0:00:00\n",
      "Requirement already satisfied: pandas in c:\\users\\ezen\\anaconda3\\lib\\site-packages (from pybithumb) (1.4.4)\n",
      "Collecting html5lib\n",
      "  Downloading html5lib-1.1-py2.py3-none-any.whl (112 kB)\n",
      "     -------------------------------------- 112.2/112.2 kB 6.4 MB/s eta 0:00:00\n",
      "Requirement already satisfied: requests in c:\\users\\ezen\\anaconda3\\lib\\site-packages (from pybithumb) (2.28.1)\n",
      "Collecting websockets\n",
      "  Downloading websockets-10.4-cp39-cp39-win_amd64.whl (101 kB)\n",
      "     -------------------------------------- 101.4/101.4 kB 6.1 MB/s eta 0:00:00\n",
      "Collecting bs4\n",
      "  Downloading bs4-0.0.1.tar.gz (1.1 kB)\n",
      "  Preparing metadata (setup.py): started\n",
      "  Preparing metadata (setup.py): finished with status 'done'\n",
      "Requirement already satisfied: beautifulsoup4 in c:\\users\\ezen\\anaconda3\\lib\\site-packages (from bs4->pybithumb) (4.11.1)\n",
      "Requirement already satisfied: zope.interface in c:\\users\\ezen\\anaconda3\\lib\\site-packages (from datetime->pybithumb) (5.4.0)\n",
      "Requirement already satisfied: pytz in c:\\users\\ezen\\anaconda3\\lib\\site-packages (from datetime->pybithumb) (2022.1)\n",
      "Requirement already satisfied: six>=1.9 in c:\\users\\ezen\\anaconda3\\lib\\site-packages (from html5lib->pybithumb) (1.16.0)\n",
      "Requirement already satisfied: webencodings in c:\\users\\ezen\\anaconda3\\lib\\site-packages (from html5lib->pybithumb) (0.5.1)\n",
      "Requirement already satisfied: numpy>=1.18.5 in c:\\users\\ezen\\anaconda3\\lib\\site-packages (from pandas->pybithumb) (1.21.5)\n",
      "Requirement already satisfied: python-dateutil>=2.8.1 in c:\\users\\ezen\\anaconda3\\lib\\site-packages (from pandas->pybithumb) (2.8.2)\n",
      "Requirement already satisfied: charset-normalizer<3,>=2 in c:\\users\\ezen\\anaconda3\\lib\\site-packages (from requests->pybithumb) (2.0.4)\n",
      "Requirement already satisfied: urllib3<1.27,>=1.21.1 in c:\\users\\ezen\\anaconda3\\lib\\site-packages (from requests->pybithumb) (1.26.11)\n",
      "Requirement already satisfied: certifi>=2017.4.17 in c:\\users\\ezen\\anaconda3\\lib\\site-packages (from requests->pybithumb) (2022.9.14)\n",
      "Requirement already satisfied: idna<4,>=2.5 in c:\\users\\ezen\\anaconda3\\lib\\site-packages (from requests->pybithumb) (3.3)\n",
      "Requirement already satisfied: soupsieve>1.2 in c:\\users\\ezen\\anaconda3\\lib\\site-packages (from beautifulsoup4->bs4->pybithumb) (2.3.1)\n",
      "Requirement already satisfied: setuptools in c:\\users\\ezen\\anaconda3\\lib\\site-packages (from zope.interface->datetime->pybithumb) (63.4.1)\n",
      "Building wheels for collected packages: bs4\n",
      "  Building wheel for bs4 (setup.py): started\n",
      "  Building wheel for bs4 (setup.py): finished with status 'done'\n",
      "  Created wheel for bs4: filename=bs4-0.0.1-py3-none-any.whl size=1257 sha256=a7f4b24ca8b0152bbd793781d6701126e737f2ccfae6c5c5c3ea1dec8d67f11e\n",
      "  Stored in directory: c:\\users\\ezen\\appdata\\local\\pip\\cache\\wheels\\73\\2b\\cb\\099980278a0c9a3e57ff1a89875ec07bfa0b6fcbebb9a8cad3\n",
      "Successfully built bs4\n",
      "Installing collected packages: websockets, html5lib, datetime, bs4, pybithumb\n",
      "Successfully installed bs4-0.0.1 datetime-4.7 html5lib-1.1 pybithumb-1.0.21 websockets-10.4\n",
      "Note: you may need to restart the kernel to use updated packages.\n"
     ]
    }
   ],
   "source": [
    "pip install pybithumb"
   ]
  },
  {
   "cell_type": "code",
   "execution_count": 2,
   "id": "767de38e",
   "metadata": {},
   "outputs": [
    {
     "name": "stdout",
     "output_type": "stream",
     "text": [
      "22876000.0\n",
      "22876000.0\n",
      "22881000.0\n",
      "22878000.0\n",
      "22878000.0\n",
      "22876000.0\n",
      "22876000.0\n",
      "22878000.0\n",
      "22871000.0\n",
      "22871000.0\n"
     ]
    },
    {
     "data": {
      "text/plain": [
       "0"
      ]
     },
     "execution_count": 2,
     "metadata": {},
     "output_type": "execute_result"
    }
   ],
   "source": [
    "# 버튼을 클릭하면 가격 조회해서 출력하기\n",
    "\n",
    "import sys                            \n",
    "from PyQt5.QtWidgets import *\n",
    "from PyQt5 import uic\n",
    "import pybithumb\n",
    "\n",
    "form_class = uic.loadUiType(\"mywindow.ui\")[0]\n",
    "\n",
    "class MyWindow(QMainWindow, form_class) :\n",
    "    def __init__(self) :\n",
    "        super().__init__()\n",
    "        self.setupUi(self)\n",
    "        self.pushButton.clicked.connect(self.btn_clicked)\n",
    "        \n",
    "    def btn_clicked(self) :\n",
    "        price = pybithumb.get_current_price(\"BTC\")\n",
    "        print(price)\n",
    "\n",
    "app = QApplication(sys.argv)\n",
    "window  = MyWindow()\n",
    "window.show()\n",
    "\n",
    "app.exec_()"
   ]
  },
  {
   "cell_type": "code",
   "execution_count": 1,
   "id": "34cb056b",
   "metadata": {},
   "outputs": [
    {
     "data": {
      "text/plain": [
       "0"
      ]
     },
     "execution_count": 1,
     "metadata": {},
     "output_type": "execute_result"
    }
   ],
   "source": [
    "# 버튼을 클릭하면 가격 조회해서 윈도우에 출력하기\n",
    "\n",
    "import sys                            \n",
    "from PyQt5.QtWidgets import *\n",
    "from PyQt5 import uic\n",
    "import pybithumb\n",
    "\n",
    "form_class = uic.loadUiType(\"mywindow.ui\")[0]\n",
    "\n",
    "class MyWindow(QMainWindow, form_class) :\n",
    "    def __init__(self) :\n",
    "        super().__init__()\n",
    "        self.setupUi(self)\n",
    "        self.pushButton.clicked.connect(self.btn_clicked)\n",
    "        \n",
    "    def btn_clicked(self) :\n",
    "        price1 = pybithumb.get_current_price(\"BTC\")\n",
    "        self.lineEdit.setText(str(price1))\n",
    "        price2 = pybithumb.get_current_price(\"ETH\")\n",
    "        self.lineEdit_2.setText(str(price2))\n",
    "        price3 = pybithumb.get_current_price(\"XRP\")\n",
    "        self.lineEdit_3.setText(str(price3))\n",
    "        \n",
    "app = QApplication(sys.argv)\n",
    "window  = MyWindow()\n",
    "window.show()\n",
    "\n",
    "app.exec_()"
   ]
  },
  {
   "cell_type": "code",
   "execution_count": null,
   "id": "00451cc9",
   "metadata": {},
   "outputs": [],
   "source": [
    "import sys                            \n",
    "from PyQt5.QtWidgets import *\n",
    "from PyQt5 import uic\n",
    "import pybithumb\n",
    "\n",
    "form_class = uic.loadUiType(\"mywindow3.ui\")[0]\n",
    "\n",
    "class MyWindow(QMainWindow, form_class) :\n",
    "    def __init__(self) :\n",
    "        super().__init__()\n",
    "        self.setupUi(self)\n",
    "        self.pushButton.clicked.connect(self.btn_clicked)\n",
    "        \n",
    "    def btn_clicked(self) :\n",
    "        price1 = pybithumb.get_current_price(\"BTC\")\n",
    "        self.lineEdit.setText(str(price1))\n",
    "        price2 = pybithumb.get_current_price(\"ETH\")\n",
    "        self.lineEdit_2.setText(str(price2))\n",
    "        price3 = pybithumb.get_current_price(\"XRP\")\n",
    "        self.lineEdit_3.setText(str(price3))\n",
    "        \n",
    "app = QApplication(sys.argv)\n",
    "window  = MyWindow()\n",
    "window.show()\n",
    "\n",
    "app.exec_()"
   ]
  },
  {
   "cell_type": "code",
   "execution_count": 1,
   "id": "5ba3db82",
   "metadata": {},
   "outputs": [
    {
     "data": {
      "text/plain": [
       "0"
      ]
     },
     "execution_count": 1,
     "metadata": {},
     "output_type": "execute_result"
    }
   ],
   "source": [
    "import sys                            \n",
    "from PyQt5.QtWidgets import *\n",
    "from PyQt5 import uic\n",
    "import pybithumb\n",
    "from PyQt5.QtCore import *\n",
    "\n",
    "tickers = [\"BTC\", \"ETH\", \"XRP\", \"ADA\"]\n",
    "\n",
    "form_class = uic.loadUiType(\"mywindow3.ui\")[0]\n",
    "\n",
    "class MyWindow(QMainWindow, form_class) :\n",
    "    def __init__(self) :\n",
    "        super().__init__()\n",
    "        self.setupUi(self)\n",
    "        self.pushButton.clicked.connect(self.btn_clicked)\n",
    "        \n",
    "    def btn_clicked(self) :\n",
    "        for i, ticker in enumerate(tickers) :  \n",
    "            item = QTableWidgetItem(ticker)\n",
    "            self.tableWidget.setItem(i, 0, item)\n",
    "            price = pybithumb.get_current_price(ticker)\n",
    "            self.tableWidget.setItem(i, 1, QTableWidgetItem(str(price)))\n",
    "            \n",
    "app = QApplication(sys.argv)\n",
    "window  = MyWindow()\n",
    "window.show()\n",
    "\n",
    "app.exec_()"
   ]
  },
  {
   "cell_type": "code",
   "execution_count": 4,
   "id": "dd9bda23",
   "metadata": {
    "scrolled": true
   },
   "outputs": [
    {
     "ename": "SyntaxError",
     "evalue": "invalid syntax (2285453229.py, line 3)",
     "output_type": "error",
     "traceback": [
      "\u001b[1;36m  File \u001b[1;32m\"C:\\Users\\EZEN\\AppData\\Local\\Temp\\ipykernel_5196\\2285453229.py\"\u001b[1;36m, line \u001b[1;32m3\u001b[0m\n\u001b[1;33m    pip install pyinstaller\u001b[0m\n\u001b[1;37m        ^\u001b[0m\n\u001b[1;31mSyntaxError\u001b[0m\u001b[1;31m:\u001b[0m invalid syntax\n"
     ]
    }
   ],
   "source": [
    "# pyinstaller 일반 파이썬 파일을 윈도우 실행 파일(.exe)로 만들어 준다\n",
    "\n",
    "pip install pyinstaller"
   ]
  },
  {
   "cell_type": "code",
   "execution_count": 5,
   "id": "9f91bcf7",
   "metadata": {},
   "outputs": [
    {
     "name": "stdout",
     "output_type": "stream",
     "text": [
      "Collecting pyinstaller\n",
      "  Downloading pyinstaller-5.7.0-py3-none-win_amd64.whl (1.3 MB)\n",
      "     ---------------------------------------- 1.3/1.3 MB 11.4 MB/s eta 0:00:00\n",
      "Requirement already satisfied: setuptools>=42.0.0 in c:\\users\\ezen\\anaconda3\\lib\\site-packages (from pyinstaller) (63.4.1)\n",
      "Collecting altgraph\n",
      "  Downloading altgraph-0.17.3-py2.py3-none-any.whl (21 kB)\n",
      "Collecting pefile>=2022.5.30\n",
      "  Downloading pefile-2022.5.30.tar.gz (72 kB)\n",
      "     ---------------------------------------- 72.9/72.9 kB 4.2 MB/s eta 0:00:00\n",
      "  Preparing metadata (setup.py): started\n",
      "  Preparing metadata (setup.py): finished with status 'done'\n",
      "Collecting pyinstaller-hooks-contrib>=2021.4\n",
      "  Downloading pyinstaller_hooks_contrib-2022.14-py2.py3-none-any.whl (252 kB)\n",
      "     -------------------------------------- 252.6/252.6 kB 7.8 MB/s eta 0:00:00\n",
      "Requirement already satisfied: pywin32-ctypes>=0.2.0 in c:\\users\\ezen\\anaconda3\\lib\\site-packages (from pyinstaller) (0.2.0)\n",
      "Requirement already satisfied: future in c:\\users\\ezen\\anaconda3\\lib\\site-packages (from pefile>=2022.5.30->pyinstaller) (0.18.2)\n",
      "Building wheels for collected packages: pefile\n",
      "  Building wheel for pefile (setup.py): started\n",
      "  Building wheel for pefile (setup.py): finished with status 'done'\n",
      "  Created wheel for pefile: filename=pefile-2022.5.30-py3-none-any.whl size=69362 sha256=39e8392c9cf4044334c1784fd18d8176aa0fb2be93b096cd7b8871b63344966b\n",
      "  Stored in directory: c:\\users\\ezen\\appdata\\local\\pip\\cache\\wheels\\f1\\fe\\01\\5536332fc49e010786c52886ac14f72073dd65fed3c3d8945c\n",
      "Successfully built pefile\n",
      "Installing collected packages: altgraph, pyinstaller-hooks-contrib, pefile, pyinstaller\n",
      "Successfully installed altgraph-0.17.3 pefile-2022.5.30 pyinstaller-5.7.0 pyinstaller-hooks-contrib-2022.14\n",
      "Note: you may need to restart the kernel to use updated packages.\n"
     ]
    }
   ],
   "source": [
    "pip install pyinstaller"
   ]
  },
  {
   "cell_type": "code",
   "execution_count": null,
   "id": "c0ed50f4",
   "metadata": {},
   "outputs": [],
   "source": []
  }
 ],
 "metadata": {
  "kernelspec": {
   "display_name": "Python 3 (ipykernel)",
   "language": "python",
   "name": "python3"
  },
  "language_info": {
   "codemirror_mode": {
    "name": "ipython",
    "version": 3
   },
   "file_extension": ".py",
   "mimetype": "text/x-python",
   "name": "python",
   "nbconvert_exporter": "python",
   "pygments_lexer": "ipython3",
   "version": "3.9.13"
  }
 },
 "nbformat": 4,
 "nbformat_minor": 5
}
