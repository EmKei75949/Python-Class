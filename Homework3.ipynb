{
  "nbformat": 4,
  "nbformat_minor": 0,
  "metadata": {
    "colab": {
      "provenance": [],
      "authorship_tag": "ABX9TyMnTy0AUGvX7EDWsgWXpLpa",
      "include_colab_link": true
    },
    "kernelspec": {
      "name": "python3",
      "display_name": "Python 3"
    },
    "language_info": {
      "name": "python"
    }
  },
  "cells": [
    {
      "cell_type": "markdown",
      "metadata": {
        "id": "view-in-github",
        "colab_type": "text"
      },
      "source": [
        "<a href=\"https://colab.research.google.com/github/EmKei75949/Python-Class/blob/main/Homework3.ipynb\" target=\"_parent\"><img src=\"https://colab.research.google.com/assets/colab-badge.svg\" alt=\"Open In Colab\"/></a>"
      ]
    },
    {
      "cell_type": "code",
      "execution_count": null,
      "metadata": {
        "colab": {
          "base_uri": "https://localhost:8080/"
        },
        "id": "X_02j-qS1r6E",
        "outputId": "3ee7ad9c-5e8c-4f78-f919-1fcf11d67748"
      },
      "outputs": [
        {
          "output_type": "stream",
          "name": "stdout",
          "text": [
            "['닥터 스트레인지', '스플릿', '럭키', '배트맨']\n",
            "['닥터 스트레인지', '슈퍼맨', '스플릿', '럭키', '배트맨']\n",
            "['닥터 스트레인지', '슈퍼맨', '스플릿', '배트맨']\n",
            "['닥터 스트레인지', '슈퍼맨']\n"
          ]
        }
      ],
      "source": [
        "# 051\n",
        "\n",
        "movie_rank = [\"닥터 스트레인지\", \"스플릿\", \"럭키\"]\n",
        "\n",
        "# 052\n",
        "\n",
        "movie_rank.append(\"배트맨\")\n",
        "\n",
        "print(movie_rank)\n",
        "\n",
        "# 053\n",
        "\n",
        "movie_rank.insert(1, \"슈퍼맨\")\n",
        "\n",
        "print(movie_rank)\n",
        "\n",
        "# 054\n",
        "\n",
        "movie_rank.remove(\"럭키\")\n",
        "\n",
        "print(movie_rank)\n",
        "\n",
        "# 055\n",
        "\n",
        "movie_rank.pop()\n",
        "movie_rank.pop()\n",
        "print(movie_rank)"
      ]
    },
    {
      "cell_type": "code",
      "source": [
        "# 056\n",
        "\n",
        "lang1 = [\"C\", \"C++\", \"JAVA\"]\n",
        "lang2 = [\"Python\", \"Go\", \"C#\"]\n",
        "\n",
        "print(lang1 + lang2)"
      ],
      "metadata": {
        "colab": {
          "base_uri": "https://localhost:8080/"
        },
        "id": "jRAr2CHJ3YeL",
        "outputId": "5c09ecb9-ae65-4abc-e08b-88a05a3c9dec"
      },
      "execution_count": null,
      "outputs": [
        {
          "output_type": "stream",
          "name": "stdout",
          "text": [
            "['C', 'C++', 'JAVA', 'Python', 'Go', 'C#']\n"
          ]
        }
      ]
    },
    {
      "cell_type": "code",
      "source": [
        "# 057\n",
        "\n",
        "nums = [1, 2, 3, 4, 5, 6, 7]\n",
        "\n",
        "print(\"min : \", min(nums))\n",
        "print(\"max : \", max(nums))\n",
        "\n"
      ],
      "metadata": {
        "colab": {
          "base_uri": "https://localhost:8080/"
        },
        "id": "dgE0WoHN3zkm",
        "outputId": "ddcb8a10-0048-47c8-c8af-7f69d18cc1f9"
      },
      "execution_count": null,
      "outputs": [
        {
          "output_type": "stream",
          "name": "stdout",
          "text": [
            "min :  1\n",
            "max :  7\n"
          ]
        }
      ]
    },
    {
      "cell_type": "code",
      "source": [
        "# 058\n",
        "\n",
        "nums = [1, 2, 3, 4, 5]\n",
        "a = sum(nums)\n",
        "\n",
        "print(a)"
      ],
      "metadata": {
        "colab": {
          "base_uri": "https://localhost:8080/"
        },
        "id": "VTostQXV40vG",
        "outputId": "f55c10fe-5b51-44ca-9e0d-d1c2f78747e9"
      },
      "execution_count": null,
      "outputs": [
        {
          "output_type": "stream",
          "name": "stdout",
          "text": [
            "15\n"
          ]
        }
      ]
    },
    {
      "cell_type": "code",
      "source": [
        "# 059\n",
        "\n",
        "cook = [\"피자\", \"김밥\", \"만두\", \"양념치킨\", \"족발\", \"피자\", \"김치만두\", \"쫄면\", \"소시지\", \"라면\", \"팥빙수\", \"김치전\"]\n",
        "\n",
        "print(len(cook))"
      ],
      "metadata": {
        "colab": {
          "base_uri": "https://localhost:8080/"
        },
        "id": "ZejECPs35MB4",
        "outputId": "cf1ff836-fdca-437e-eb27-2bac3bd14103"
      },
      "execution_count": null,
      "outputs": [
        {
          "output_type": "stream",
          "name": "stdout",
          "text": [
            "12\n"
          ]
        }
      ]
    },
    {
      "cell_type": "code",
      "source": [
        "# 060\n",
        "\n",
        "nums = [1,2,3,4,5]\n",
        "\n",
        "avg = sum(nums) / len(nums)\n",
        "\n",
        "print(avg)"
      ],
      "metadata": {
        "colab": {
          "base_uri": "https://localhost:8080/"
        },
        "id": "wQzjUnje5dMZ",
        "outputId": "ec55644e-653f-4597-d923-8e6095f05c4e"
      },
      "execution_count": null,
      "outputs": [
        {
          "output_type": "stream",
          "name": "stdout",
          "text": [
            "3.0\n"
          ]
        }
      ]
    },
    {
      "cell_type": "code",
      "source": [
        "# 061\n",
        "\n",
        "price = ['20180728', 100, 130, 140, 150, 160, 170]\n",
        "\n",
        "print(price[1:])"
      ],
      "metadata": {
        "colab": {
          "base_uri": "https://localhost:8080/"
        },
        "id": "_NhtvR3S5xRb",
        "outputId": "467e0ad4-17d2-4905-c3f0-dbf73d793385"
      },
      "execution_count": null,
      "outputs": [
        {
          "output_type": "stream",
          "name": "stdout",
          "text": [
            "[100, 130, 140, 150, 160, 170]\n"
          ]
        }
      ]
    },
    {
      "cell_type": "code",
      "source": [
        "# 062\n",
        "\n",
        "nums = [1,2,3,4,5,6,7,8,9,10]\n",
        "\n",
        "print(nums[::2])\n",
        "\n",
        "# 063\n",
        "\n",
        "print(nums[1::2])\n"
      ],
      "metadata": {
        "colab": {
          "base_uri": "https://localhost:8080/"
        },
        "id": "qbFh3LZK6I5r",
        "outputId": "10d2ce53-7bec-4bd3-be73-1df36385062d"
      },
      "execution_count": null,
      "outputs": [
        {
          "output_type": "stream",
          "name": "stdout",
          "text": [
            "[1, 3, 5, 7, 9]\n",
            "[2, 4, 6, 8, 10]\n"
          ]
        }
      ]
    },
    {
      "cell_type": "code",
      "source": [
        "# 064\n",
        "\n",
        "nums = [1,2,3,4,5]\n",
        "\n",
        "nums.reverse()\n",
        "\n",
        "print(nums)"
      ],
      "metadata": {
        "colab": {
          "base_uri": "https://localhost:8080/"
        },
        "id": "-LBS73RO8cDn",
        "outputId": "b2203d02-6ad2-41bd-ed0e-fc206c317284"
      },
      "execution_count": null,
      "outputs": [
        {
          "output_type": "stream",
          "name": "stdout",
          "text": [
            "[5, 4, 3, 2, 1]\n"
          ]
        }
      ]
    },
    {
      "cell_type": "code",
      "source": [
        "# 065\n",
        "\n",
        "interest = ['삼성전자', 'LG전자', 'Naver']\n",
        "\n",
        "interest.pop(1)\n",
        "\n",
        "print(interest)"
      ],
      "metadata": {
        "colab": {
          "base_uri": "https://localhost:8080/"
        },
        "id": "9UngApcj8mQP",
        "outputId": "ad7ea861-7585-4be6-dfa1-0a45bae1e512"
      },
      "execution_count": null,
      "outputs": [
        {
          "output_type": "stream",
          "name": "stdout",
          "text": [
            "['삼성전자', 'Naver']\n"
          ]
        }
      ]
    },
    {
      "cell_type": "code",
      "source": [
        "# 066\n",
        "\n",
        "interest = ['삼성전자', 'LG전자', 'Naver', 'SK하이닉스', '미래에셋대우']\n",
        "\n",
        "interest1 = \" \".join(interest)\n",
        "\n",
        "print(interest1)\n",
        "\n",
        "# 067\n",
        "\n",
        "interest2 = \"/\".join(interest)\n",
        "\n",
        "print(interest2)\n",
        "\n",
        "# 068\n",
        "\n",
        "interest3 = \"\\n\".join(interest)\n",
        "\n",
        "print(interest3)"
      ],
      "metadata": {
        "colab": {
          "base_uri": "https://localhost:8080/"
        },
        "id": "0Z_WkyZE8688",
        "outputId": "250d784d-3210-444c-fb0a-088abb2dc57e"
      },
      "execution_count": null,
      "outputs": [
        {
          "output_type": "stream",
          "name": "stdout",
          "text": [
            "삼성전자 LG전자 Naver SK하이닉스 미래에셋대우\n",
            "삼성전자/LG전자/Naver/SK하이닉스/미래에셋대우\n",
            "삼성전자\n",
            "LG전자\n",
            "Naver\n",
            "SK하이닉스\n",
            "미래에셋대우\n"
          ]
        }
      ]
    },
    {
      "cell_type": "code",
      "source": [
        "# 069\n",
        "\n",
        "string = \"삼성전자/LG전자/Naver\"\n",
        "\n",
        "interest = string.split('/')\n",
        "\n",
        "print(interest)"
      ],
      "metadata": {
        "colab": {
          "base_uri": "https://localhost:8080/"
        },
        "id": "DGM9N88OAqJ5",
        "outputId": "2d57062c-a2a6-4301-d5af-b269b681de45"
      },
      "execution_count": null,
      "outputs": [
        {
          "output_type": "stream",
          "name": "stdout",
          "text": [
            "['삼성전자', 'LG전자', 'Naver']\n"
          ]
        }
      ]
    },
    {
      "cell_type": "code",
      "source": [
        "# 070\n",
        "\n",
        "data = [2,4,3,1,5,10,9]\n",
        "\n",
        "data.sort()\n",
        "\n",
        "print(data)"
      ],
      "metadata": {
        "colab": {
          "base_uri": "https://localhost:8080/"
        },
        "id": "9ZavAKhjBFhb",
        "outputId": "2510f6bf-7983-4798-f545-4f8a30683448"
      },
      "execution_count": null,
      "outputs": [
        {
          "output_type": "stream",
          "name": "stdout",
          "text": [
            "[1, 2, 3, 4, 5, 9, 10]\n"
          ]
        }
      ]
    }
  ]
}