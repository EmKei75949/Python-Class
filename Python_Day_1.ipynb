{
  "nbformat": 4,
  "nbformat_minor": 0,
  "metadata": {
    "colab": {
      "provenance": [],
      "authorship_tag": "ABX9TyMgW79qrhqP19dWZiXmJNXS",
      "include_colab_link": true
    },
    "kernelspec": {
      "name": "python3",
      "display_name": "Python 3"
    },
    "language_info": {
      "name": "python"
    }
  },
  "cells": [
    {
      "cell_type": "markdown",
      "metadata": {
        "id": "view-in-github",
        "colab_type": "text"
      },
      "source": [
        "<a href=\"https://colab.research.google.com/github/EmKei75949/Python-Class/blob/main/Python_Day_1.ipynb\" target=\"_parent\"><img src=\"https://colab.research.google.com/assets/colab-badge.svg\" alt=\"Open In Colab\"/></a>"
      ]
    },
    {
      "cell_type": "code",
      "execution_count": null,
      "metadata": {
        "colab": {
          "base_uri": "https://localhost:8080/"
        },
        "id": "_okr-D2qd2NY",
        "outputId": "bdf8104c-a364-4241-ebb0-6908bbcdec26"
      },
      "outputs": [
        {
          "output_type": "stream",
          "name": "stdout",
          "text": [
            "Hello World!\n"
          ]
        }
      ],
      "source": [
        "print(\"Hello World!\")"
      ]
    },
    {
      "cell_type": "markdown",
      "source": [
        "- 파이썬이란...\n",
        "귀도 반 로썸 1990년에 개발한 인터프리터 언어이다. (컴파일러-자바, C와 인터프리터-R, Python)_한줄 한줄 코드를 해석해서 실행 결과를 바로 확인할 수 있는 언어이다.\n",
        "\n",
        " 로고는 고대 신화에 나오는 동굴에 살던 큰 뱀을 뜻한다.\n",
        "\n",
        " 파이썬 교육용으로 많이 사용되기도 하지만 업무용으로도 전혀 손색이 없다.\n",
        "\n",
        " 파이썬 언어의 특징\n",
        " - 문법이 쉽다.\n",
        " - 빠르게 배울 수 있다.\n",
        " - 무료지만 강력하다.\n",
        " - 즐거운 프로그래밍이 가능하다.\n",
        "\n",
        " 파이썬으로 할 수 있는 것\n",
        " - 인공지능\n",
        " - 빅데이터\n",
        " - GUI 애플리케이션\n",
        " - C / C++ 결합\n",
        " - 웹 프로그래밍(Flask, Django)\n",
        " - 데이터베이스\n",
        "\n",
        " 파이썬 약점\n",
        " - 시스템과 밀접한 프로그래밍\n",
        " - 모바일 프로그래밍\n",
        "\n",
        " IDE 개발도구\n",
        " - Colab\n",
        " - Anaconda\n",
        " - VS Code\n",
        " - PyCharm(유료)"
      ],
      "metadata": {
        "id": "pxF8fANYhxKT"
      }
    },
    {
      "cell_type": "markdown",
      "source": [
        "# 변수\n",
        "\n",
        "숫자, 문자 등 데이터를 컴퓨터에서는 변수(Variable)를 사용하게 된다."
      ],
      "metadata": {
        "id": "hkuFHAhqrolg"
      }
    },
    {
      "cell_type": "code",
      "source": [
        "a = 1\n",
        "a = 2\n",
        "b = \"python\"\n",
        "b = \"java\"\n",
        "\n",
        "print(a)\n",
        "print(b)\n"
      ],
      "metadata": {
        "colab": {
          "base_uri": "https://localhost:8080/"
        },
        "id": "OW_Q24R_rsKA",
        "outputId": "27f414b2-f925-4abb-de53-1c521ac8e365"
      },
      "execution_count": null,
      "outputs": [
        {
          "output_type": "stream",
          "name": "stdout",
          "text": [
            "2\n",
            "java\n"
          ]
        }
      ]
    },
    {
      "cell_type": "markdown",
      "source": [
        "\n",
        "\n",
        "\n",
        "# 자료형\n",
        "\n",
        "자료형이란, 프로그래밍에서 자료 형태로 문자, 숫자를 사용하는 것을 말한다. 프로그래밍의 핵심이자 기본이 바로 자료형이다. 자료형을 충분히 이해해야만 프로그래밍을 잘 할 수 있다.\n",
        "\n",
        "1. 숫자형\n",
        "\n",
        " 숫자형 자료형은 숫자 형태(정수, 실수 등등)로 이루어진 자료형이다.\n",
        "\n",
        " 정수 1, 2, 3, ...\n",
        " 실수 3.14 ....\n",
        "\n"
      ],
      "metadata": {
        "id": "6w8UAKofqBvx"
      }
    },
    {
      "cell_type": "code",
      "source": [
        "a = 3\n",
        "b = 5\n",
        "\n",
        "# print는 생략해도 출력이 되지만, 정상은 print 구문을 사용하는 것이다.\n",
        "print(a+b) # 주석 comment는 컴퓨터가 읽지 않는다.\n",
        "\n",
        "print(a+b)\n",
        "print(a-b)\n",
        "print(a*b)\n",
        "print(a/b)"
      ],
      "metadata": {
        "colab": {
          "base_uri": "https://localhost:8080/"
        },
        "id": "Mgdv62YDvcQO",
        "outputId": "ca3a5f4c-d70b-4a7e-bee0-77f0bfd5391b"
      },
      "execution_count": null,
      "outputs": [
        {
          "output_type": "stream",
          "name": "stdout",
          "text": [
            "8\n",
            "8\n",
            "-2\n",
            "15\n",
            "0.6\n"
          ]
        }
      ]
    },
    {
      "cell_type": "code",
      "source": [],
      "metadata": {
        "id": "fXNJMe_7xG-t"
      },
      "execution_count": null,
      "outputs": []
    },
    {
      "cell_type": "code",
      "source": [
        "# 나머지 연산자 % 는 몫이 아닌 나머지를 구한다.\n",
        "# 나머지 연산자를 통해 짝수, 홀수, 배수를 알아낼 수 있다.\n",
        "a = 7\n",
        "b = 3\n",
        "print(a%b)\n",
        "print(8%2) # 어떤 수를 2로 나눈 나머지가 1이면, 항상 홀수이고, 나머지가 0이면 항상 짝수\n",
        "print(8%4) # 어떤 수를 어떤 수로 나눈 나머지가 0이면 항상 그 수의 배수이다."
      ],
      "metadata": {
        "colab": {
          "base_uri": "https://localhost:8080/"
        },
        "id": "0zPz3bhWxG_b",
        "outputId": "ccb2db3e-0f2d-4225-ce4c-873a4c5293b6"
      },
      "execution_count": null,
      "outputs": [
        {
          "output_type": "stream",
          "name": "stdout",
          "text": [
            "1\n",
            "0\n",
            "0\n"
          ]
        }
      ]
    },
    {
      "cell_type": "code",
      "source": [
        "# 몫을 알고 싶을 때는 //\n",
        "\n",
        "print(9//2)"
      ],
      "metadata": {
        "colab": {
          "base_uri": "https://localhost:8080/"
        },
        "id": "CZUiOoRjym9N",
        "outputId": "16fb4f84-1f07-4895-8aac-a0954117f42c"
      },
      "execution_count": null,
      "outputs": [
        {
          "output_type": "stream",
          "name": "stdout",
          "text": [
            "4\n"
          ]
        }
      ]
    },
    {
      "cell_type": "markdown",
      "source": [
        "# 문자열 자료형\n",
        "\n",
        "문자열은 문자, 단어, 문장 등으로 구성된 글자들의 집합"
      ],
      "metadata": {
        "id": "mtcFVJkey7vl"
      }
    },
    {
      "cell_type": "code",
      "source": [
        "a = \"b\"\n",
        "b = \"Hello\"\n",
        "c = \"Awesome Class\"\n",
        "d = \"123\" # 123 숫자 123과는 다른 문자 \"123\"이다.\n",
        "\n",
        "print(a)\n",
        "print(b)\n",
        "print(c)\n",
        "print(d)\n",
        "\n",
        "# 자바 등과 같은 언어에서는 변수를 상용할 때 형까지도 지정을 해주어야만한다.\n",
        "# char a = \"b\";\n",
        "# string b = \"Hello\";\n",
        "# int c = 5;"
      ],
      "metadata": {
        "colab": {
          "base_uri": "https://localhost:8080/"
        },
        "id": "dzgntrlizKcl",
        "outputId": "ce0c3aaa-949f-415c-9134-b00462b57aef"
      },
      "execution_count": null,
      "outputs": [
        {
          "output_type": "stream",
          "name": "stdout",
          "text": [
            "b\n",
            "Hello\n",
            "Awesome Class\n",
            "123\n"
          ]
        }
      ]
    },
    {
      "cell_type": "code",
      "source": [
        "# 파이썬에서 문자열은 \"\" 큰따옴표 ''작은따옴표 기본적으로 동일하게 취급한다.\n",
        "\n",
        "a = \"Hello\"\n",
        "b = 'Hello'\n",
        "print(a)\n",
        "print(b)\n",
        "\n",
        "# 하지만 아래의 경우 약간 다르게 처리된다.\n",
        "a = 'Hello \"Austin\"'\n",
        "print(a)\n",
        "\n",
        "b = \"Hello 'Austin'\"\n",
        "print(b)\n",
        "\n",
        "# \"\"\" \"\"\" doc string - 컴퓨터가 읽는 주석(영향x)\n",
        "# ''' '''\n",
        "\n",
        "# 백슬러시를 넣으면 기능이 무시되고 글자로만 취급한다.\n",
        "a = \"Hello \\\"Austin\\\"\"\n",
        "b = 'Hello \\'Austin\\''\n",
        "print(a)\n",
        "print(b)"
      ],
      "metadata": {
        "colab": {
          "base_uri": "https://localhost:8080/"
        },
        "id": "fu7tIQ1v1E09",
        "outputId": "acf0c21d-767f-4cb3-a7bb-4353da1a01d8"
      },
      "execution_count": null,
      "outputs": [
        {
          "output_type": "stream",
          "name": "stdout",
          "text": [
            "Hello\n",
            "Hello\n",
            "Hello \"Austin\"\n",
            "Hello 'Austin'\n",
            "Hello \"Austin\"\n",
            "Hello 'Austin'\n"
          ]
        }
      ]
    },
    {
      "cell_type": "code",
      "source": [
        "# 백슬래시를 사용하는 것을 이스케이프 코드를 사용한다라고 표현한다.\n",
        "# \\'\n",
        "# \\\"\n",
        "# \\n 강제 줄바꿈\n",
        "# \\t 일정 간격 띄우기\n",
        "\n",
        "a = \"Hello \\nWorld\"\n",
        "print(a)\n",
        "\n",
        "b = \"Hello\\t\\t\\tWorld\"\n",
        "print(b)"
      ],
      "metadata": {
        "colab": {
          "base_uri": "https://localhost:8080/"
        },
        "id": "G_O5j5Nd3pJz",
        "outputId": "4462e33b-f9cf-49e0-9aa9-bb3866874a88"
      },
      "execution_count": null,
      "outputs": [
        {
          "output_type": "stream",
          "name": "stdout",
          "text": [
            "Hello \n",
            "World\n",
            "Hello\t\t\tWorld\n"
          ]
        }
      ]
    },
    {
      "cell_type": "markdown",
      "source": [
        "파이썬에서 아주 중요한 자료형 4가지\n",
        "- List\n",
        "- Tuple\n",
        "- Dict\n",
        "- Set\n",
        "\n",
        "# List [  ]\n",
        "\n",
        "- mutable 수정가능\n",
        "- indexing / slicing 가능\n",
        "- 파이썬에서 가장 많이 사용된다\n",
        "\n",
        "# Tuple (  )\n",
        "\n",
        "- immutable 수정불가능\n",
        "- indexing / slicing 가능\n",
        "- 요소를 하나만 저장할 때도 쉼표를 붙인다\n",
        "\n",
        "# Dict {  }\n",
        "- mutable 수정가능\n",
        "- indexing / slicing 불가능\n",
        "- 키값 - 밸류값 쌍으로 구성\n",
        "\n",
        "\n",
        "# Set {  }\n",
        "\n",
        "- mutable 수정가능\n",
        "- indexing / slicing 불가능\n",
        "- 중복값을 허용하지 않는다\n",
        "\n",
        "*쌍으로 존재하는 중괄호 = Dict\n",
        "\n",
        "\n"
      ],
      "metadata": {
        "id": "FYJ7s1-f4-sM"
      }
    },
    {
      "cell_type": "markdown",
      "source": [
        "# List [  ]\n",
        "\n",
        "- mutable 수정가능\n",
        "- indexing / slicing 가능\n",
        "- 파이썬에서 가장 많이 사용된다\n"
      ],
      "metadata": {
        "id": "c2zUmtjtTHwL"
      }
    },
    {
      "cell_type": "code",
      "source": [
        "# 리스트 작성\n",
        "\n",
        "emp1 = []\n",
        "odd2 = [1, 3, 5, 7, 9]\n",
        "str3 = [\"하나\", \"둘\", \"삼\"]\n",
        "mix4 = [1, 2, \"삼\"]\n",
        "\n",
        "print(emp1)\n",
        "print(odd2)\n",
        "print(str3)\n",
        "print(mix4)\n",
        "\n",
        "# 리스트에서 인덱싱 indexing\n",
        "\n",
        "alist = [10,20,30,40,50]\n",
        "\n",
        "print(alist[0]) # 파이썬에서 indexing 할 때, 리스트의 0부터 시작\n",
        "print(alist[0] + alist[1])\n",
        "print((alist[0] + alist[1] + alist[2] + alist[3] + alist[4])/5)"
      ],
      "metadata": {
        "colab": {
          "base_uri": "https://localhost:8080/"
        },
        "id": "49l249-RTPVi",
        "outputId": "ada27e5f-65af-4069-a424-b7a6d70711a2"
      },
      "execution_count": null,
      "outputs": [
        {
          "output_type": "stream",
          "name": "stdout",
          "text": [
            "[]\n",
            "[1, 3, 5, 7, 9]\n",
            "['하나', '둘', '삼']\n",
            "[1, 2, '삼']\n",
            "10\n",
            "30\n",
            "30.0\n"
          ]
        }
      ]
    },
    {
      "cell_type": "code",
      "source": [
        "# 슬라이싱 Slicing 하나씩 추출하는 인덱싱과는 달리 여러 개를 추출한다.\n",
        "\n",
        "blist = \"12345\"\n",
        "\n",
        "blist[0:2] # 0부터 2미만\n",
        "blist[:3] # 시작을 생략하면 처음부터 n번째 미만까지 추출\n",
        "blist[0:] # 마지막을 생략하면 마지막까지 추출"
      ],
      "metadata": {
        "colab": {
          "base_uri": "https://localhost:8080/",
          "height": 35
        },
        "id": "mF1Z0OrVXWNp",
        "outputId": "d71d58b3-99cd-448d-d06d-c1e9df4b0f61"
      },
      "execution_count": null,
      "outputs": [
        {
          "output_type": "execute_result",
          "data": {
            "text/plain": [
              "'12345'"
            ],
            "application/vnd.google.colaboratory.intrinsic+json": {
              "type": "string"
            }
          },
          "metadata": {},
          "execution_count": 33
        }
      ]
    },
    {
      "cell_type": "code",
      "source": [
        "# 리스트 연산\n",
        "\n",
        "# 리스트 더하기 (리스트들의 연결된 합으로 나타낸다.)\n",
        "\n",
        "alist = [1,2,3,4,5]\n",
        "blist = [6,7,8,9,10]\n",
        "\n",
        "print(alist + blist)\n",
        "\n",
        "# 리스트 곱하기 (리스트들을 반복하여 연결된 합으로 나타낸다.)\n",
        "\n",
        "print(alist * 3)\n",
        "\n",
        "# 리스트의 갯수 구하기\n",
        "\n",
        "print(len(blist))\n",
        "\n"
      ],
      "metadata": {
        "colab": {
          "base_uri": "https://localhost:8080/"
        },
        "id": "t33l56swbRWv",
        "outputId": "1bdb4333-3562-44bc-e3f2-bbbbad7e40fa"
      },
      "execution_count": null,
      "outputs": [
        {
          "output_type": "stream",
          "name": "stdout",
          "text": [
            "[1, 2, 3, 4, 5, 6, 7, 8, 9, 10]\n",
            "[1, 2, 3, 4, 5, 1, 2, 3, 4, 5, 1, 2, 3, 4, 5]\n",
            "5\n"
          ]
        }
      ]
    },
    {
      "cell_type": "code",
      "source": [
        "# 리스트의 수정 mutable\n",
        "\n",
        "alist = [1,2,3,4,5]\n",
        "alist[2] = 0\n",
        "print(alist)\n",
        "\n",
        "# 리스트의 삭제\n",
        "\n",
        "del alist[2]\n",
        "print(alist)"
      ],
      "metadata": {
        "colab": {
          "base_uri": "https://localhost:8080/"
        },
        "id": "KX4qJCcFcSUg",
        "outputId": "4811ec7e-6292-48df-fcee-f7d47019e10d"
      },
      "execution_count": null,
      "outputs": [
        {
          "output_type": "stream",
          "name": "stdout",
          "text": [
            "[1, 2, 0, 4, 5]\n",
            "[1, 2, 4, 5]\n"
          ]
        }
      ]
    },
    {
      "cell_type": "code",
      "source": [
        "# 리스트에서 많이 사용되는 함수\n",
        "\n",
        "# append - 리스트의 요소를 추가하는 기능(마지막 위치에)\n",
        "\n",
        "alist = [1,2,3,4,5]\n",
        "\n",
        "alist.append(6)\n",
        "print(\"원래 리스트에 새로운 요소를 추가한 결과는 \", alist, \"입니다.\")\n",
        "\n",
        "# sort - 리스트의 요소들을 정렬하는 기능\n",
        "\n",
        "blist = [2,4,3,5,1]\n",
        "\n",
        "blist.sort()\n",
        "print(\"리스트의 요소를 정렬한 결과는 \", blist, \"입니다.\")\n",
        "\n",
        "# reverse - 리스트의 요소들을 그대로 뒤집는 기능\n",
        "\n",
        "clist = [1,2,3]\n",
        "clist.reverse()\n",
        "print(\"원래 리스트를 그대로 역순으로 출력한 결과는 \", clist, \"입니다.\")\n",
        "\n",
        "# index - 리스트의 특정 값의 위치를 반환하는 기능(indexing이랑 다름)\n",
        "\n",
        "dlist = [1,2,3,4,5]\n",
        "print(\"숫자 2의 인덱스 값은 \", dlist.index(2), \"입니다.\") # 리스트에서 2가 몇 번째에 위치하는지\n",
        "\n",
        "# insert - 리스트의 특정 위치에 요소를 추가하는 기능 (append는 항상 끝에 추가)\n",
        "\n",
        "elist = [1,2,3,4,5]\n",
        "elist.insert(0, 0) # n번째에 n을 넣어라 (위치, 넣을 값)\n",
        "print(elist)\n",
        "\n",
        "# remove - 리스트의 요소를 삭제하는 기능\n",
        "\n",
        "flist = [1,2,3,4,5,3,3]\n",
        "flist.remove(3) # 리스트에서 삭제할 값을 입력, 같은 값이 여러 개 있을 경우 처음 등장하는 값을 삭제\n",
        "print(flist)\n",
        "\n",
        "# pop - 리스트의 마지막 요소를 제거하는 용도로 주로 쓰이지만, 특정 위치로도 삭제\n",
        "\n",
        "glist = [1,2,3,4,5]\n",
        "glist.pop() # 마지막에 위치한 5 제거\n",
        "glist.pop() # 마지막에 위치한 4 제거\n",
        "print(glist)\n",
        "glist.pop(0) # n번째 위치한 값 제거\n",
        "glist.pop(0) # n번째 위치한 값 제거\n",
        "\n",
        "# 리스트 요소의 개수 세기 기능\n",
        "\n",
        "jlist = [1,2,3,1]\n",
        "jlist.count(1)\n",
        "\n",
        "# 리스트의 확장은 기존 리스트에 다른 리스트를 더하여 하나의 리스트로 만든다.\n",
        "\n",
        "a = [1,2,3]\n",
        "\n",
        "a.extend([4,5])\n",
        "\n",
        "print(a)"
      ],
      "metadata": {
        "colab": {
          "base_uri": "https://localhost:8080/"
        },
        "id": "P20WDNqqc7nx",
        "outputId": "11d09551-32cd-4477-fe85-3cdb49f3500e"
      },
      "execution_count": null,
      "outputs": [
        {
          "output_type": "stream",
          "name": "stdout",
          "text": [
            "원래 리스트에 새로운 요소를 추가한 결과는  [1, 2, 3, 4, 5, 6] 입니다.\n",
            "리스트의 요소를 정렬한 결과는  [1, 2, 3, 4, 5] 입니다.\n",
            "원래 리스트를 그대로 역순으로 출력한 결과는  [3, 2, 1] 입니다.\n",
            "숫자 2의 인덱스 값은  1 입니다.\n",
            "[0, 1, 2, 3, 4, 5]\n",
            "[1, 2, 4, 5, 3, 3]\n",
            "[1, 2, 3]\n",
            "[1, 2, 3, 4, 5]\n"
          ]
        }
      ]
    },
    {
      "cell_type": "code",
      "source": [
        "# 오늘의 영화 순위 리스트 만들기\n",
        "\n",
        "movie_list = [\"자백\", \"리멤머\", \"블랙 아담\"]\n",
        "print(movie_list)"
      ],
      "metadata": {
        "colab": {
          "base_uri": "https://localhost:8080/"
        },
        "id": "OFglbONiluo0",
        "outputId": "8bbb415b-16ca-4b43-e3b2-1091ac59faf3"
      },
      "execution_count": null,
      "outputs": [
        {
          "output_type": "stream",
          "name": "stdout",
          "text": [
            "['자백', '리멤머', '블랙 아담']\n"
          ]
        }
      ]
    },
    {
      "cell_type": "code",
      "source": [
        "# 튜플 Tuple\n",
        "\n",
        "# 튜플은 리스트와 거의 동일하지만, immutable \n",
        "# 즉, 한 번 생성하면 수정도 삭제도 불가능\n",
        "# ( ) 소괄호로 만든다\n",
        "\n",
        "tuple1 = ()\n",
        "tuple2 = (1,) # 튜플은 원소 하나짜리로 만들 때 괜히 쉼표를 넣는다\n",
        "tuple3 = (1,2,3)\n",
        "tuple4 = 1,2,3 # 튜플은 괄호 생략 가능\n",
        "tuple5 = (1,2,3,(4,5,6)) # 튜플 안에 튜플도 포함할 수 있다"
      ],
      "metadata": {
        "id": "c0EFMM9Mma9S"
      },
      "execution_count": null,
      "outputs": []
    },
    {
      "cell_type": "code",
      "source": [
        "# immuatable\n",
        "tuple1 = (1,2,3,4)\n",
        "# del tuple1[0] 튜플에서는 삭제가 불가능\n",
        "# tuple1[0] = 0 튜플에서는 변경도 불가능"
      ],
      "metadata": {
        "colab": {
          "base_uri": "https://localhost:8080/",
          "height": 211
        },
        "id": "njmgxWNxoM7z",
        "outputId": "92cd6d07-faea-429c-b549-64f0f2bc29da"
      },
      "execution_count": null,
      "outputs": [
        {
          "output_type": "error",
          "ename": "TypeError",
          "evalue": "ignored",
          "traceback": [
            "\u001b[0;31m---------------------------------------------------------------------------\u001b[0m",
            "\u001b[0;31mTypeError\u001b[0m                                 Traceback (most recent call last)",
            "\u001b[0;32m<ipython-input-61-ef7bd9283228>\u001b[0m in \u001b[0;36m<module>\u001b[0;34m\u001b[0m\n\u001b[1;32m      1\u001b[0m \u001b[0mtuple1\u001b[0m \u001b[0;34m=\u001b[0m \u001b[0;34m(\u001b[0m\u001b[0;36m1\u001b[0m\u001b[0;34m,\u001b[0m\u001b[0;36m2\u001b[0m\u001b[0;34m,\u001b[0m\u001b[0;36m3\u001b[0m\u001b[0;34m,\u001b[0m\u001b[0;36m4\u001b[0m\u001b[0;34m)\u001b[0m\u001b[0;34m\u001b[0m\u001b[0;34m\u001b[0m\u001b[0m\n\u001b[1;32m      2\u001b[0m \u001b[0;31m# del tuple1[0] 튜플에서는 삭제가 불가능\u001b[0m\u001b[0;34m\u001b[0m\u001b[0;34m\u001b[0m\u001b[0;34m\u001b[0m\u001b[0m\n\u001b[0;32m----> 3\u001b[0;31m \u001b[0mtuple1\u001b[0m\u001b[0;34m[\u001b[0m\u001b[0;36m0\u001b[0m\u001b[0;34m]\u001b[0m \u001b[0;34m=\u001b[0m \u001b[0;36m0\u001b[0m\u001b[0;34m\u001b[0m\u001b[0;34m\u001b[0m\u001b[0m\n\u001b[0m",
            "\u001b[0;31mTypeError\u001b[0m: 'tuple' object does not support item assignment"
          ]
        }
      ]
    },
    {
      "cell_type": "code",
      "source": [
        "# 튜플은 인덱싱과 슬라이싱이 가능하다\n",
        "\n",
        "tu1 = (1,2,3,4,5)\n",
        "\n",
        "tu1[0]\n",
        "tu1[-1] # -1은 리스트와 튜플에서 마지막 인덱스 번호\n",
        "\n",
        "tu1[0:3] # n번째부터 n번째 미만까지\n",
        "\n",
        "# 튜플의 요소 갯수\n",
        "\n",
        "print(len(tu1))"
      ],
      "metadata": {
        "colab": {
          "base_uri": "https://localhost:8080/"
        },
        "id": "vThNaN0Novw7",
        "outputId": "f1f2ddae-2a3a-4e3e-faf3-4aba914dd80b"
      },
      "execution_count": null,
      "outputs": [
        {
          "output_type": "stream",
          "name": "stdout",
          "text": [
            "5\n"
          ]
        }
      ]
    },
    {
      "cell_type": "code",
      "source": [
        "# 딕셔너리 Dict\n",
        "\n",
        "# 이름 그대로 dictionary 사전처럼 키값:밸류값의 쌍으로 데이터가 저장되는 자료형이다\n",
        "# 리스트처럼 mutable한 속성을 가지고 있으나 익덱싱과 슬라이싱은 지원하지 않는다\n",
        "# 즉, 순서가 없다 키값으로 밸류값을 꺼낸다\n",
        "\n",
        "adict = {5:'a', 3:'b', 2:'c'}\n",
        "\n",
        "print(adict[5])\n",
        "\n",
        "print(adict)\n",
        "\n",
        "adict[9] = 'd'\n",
        "\n",
        "print(adict)\n",
        "\n",
        "del adict[3]\n",
        "\n",
        "print(adict)\n",
        "\n"
      ],
      "metadata": {
        "colab": {
          "base_uri": "https://localhost:8080/"
        },
        "id": "3OKauvM8p_QK",
        "outputId": "6aed7d61-5e8f-46e4-fe28-d92a6316a99a"
      },
      "execution_count": null,
      "outputs": [
        {
          "output_type": "stream",
          "name": "stdout",
          "text": [
            "a\n",
            "{5: 'a', 3: 'b', 2: 'c'}\n",
            "{5: 'a', 3: 'b', 2: 'c', 9: 'd'}\n",
            "{5: 'a', 2: 'c', 9: 'd'}\n"
          ]
        }
      ]
    },
    {
      "cell_type": "code",
      "source": [
        "# adict[0] 딕셔너리는 인덱싱과 슬라이싱이 불가능"
      ],
      "metadata": {
        "colab": {
          "base_uri": "https://localhost:8080/",
          "height": 174
        },
        "id": "RGi0QaW3rooR",
        "outputId": "b35895fd-b61a-49e6-aaf7-64be161851f5"
      },
      "execution_count": null,
      "outputs": [
        {
          "output_type": "error",
          "ename": "KeyError",
          "evalue": "ignored",
          "traceback": [
            "\u001b[0;31m---------------------------------------------------------------------------\u001b[0m",
            "\u001b[0;31mKeyError\u001b[0m                                  Traceback (most recent call last)",
            "\u001b[0;32m<ipython-input-71-db9ab5ad4561>\u001b[0m in \u001b[0;36m<module>\u001b[0;34m\u001b[0m\n\u001b[0;32m----> 1\u001b[0;31m \u001b[0madict\u001b[0m\u001b[0;34m[\u001b[0m\u001b[0;36m0\u001b[0m\u001b[0;34m]\u001b[0m\u001b[0;34m\u001b[0m\u001b[0;34m\u001b[0m\u001b[0m\n\u001b[0m",
            "\u001b[0;31mKeyError\u001b[0m: 0"
          ]
        }
      ]
    },
    {
      "cell_type": "code",
      "source": [
        "# 딕셔너리에서 키값만 추출하는 기능 keys\n",
        "\n",
        "adict = {5:'a', 3:'b', 2:'c'}\n",
        "\n",
        "print(adict.keys())\n",
        "\n",
        "# 딕셔너리에서 밸류값만 추출하는 기능 vlaues\n",
        "\n",
        "print(adict.values())\n",
        "\n",
        "# 딕셔너리에서 쌍으로 추출하는 기능 items\n",
        "\n",
        "print(adict.items())\n",
        "\n",
        "\n",
        "# 딕셔너리에 키값이 존재하는지 확인하는 기능 in\n",
        "\n",
        "1 in adict\n",
        "5 in adict"
      ],
      "metadata": {
        "colab": {
          "base_uri": "https://localhost:8080/"
        },
        "id": "9d8mcgVasLWZ",
        "outputId": "73a45d19-b5f6-4b21-8ccf-5eb2654e96f8"
      },
      "execution_count": null,
      "outputs": [
        {
          "output_type": "stream",
          "name": "stdout",
          "text": [
            "dict_keys([5, 3, 2])\n",
            "dict_values(['a', 'b', 'c'])\n",
            "dict_items([(5, 'a'), (3, 'b'), (2, 'c')])\n"
          ]
        },
        {
          "output_type": "execute_result",
          "data": {
            "text/plain": [
              "True"
            ]
          },
          "metadata": {},
          "execution_count": 1
        }
      ]
    },
    {
      "cell_type": "code",
      "source": [
        "# Set 집합\n",
        "\n",
        "# 중복을 허용하지 않는다\n",
        "\n",
        "# 삽입 삭제가 가능한 mutable한 속성을 갖는다\n",
        "\n",
        "# 인덱싱과 슬라이싱이 불가능 unordered\n",
        "\n",
        "s1 = {1,2,3,4,1,2}\n",
        "\n",
        "print(s1) # 1, 2가 중복되어 중복된 걸 삭제하고 출력됨 error 발생 안 함\n",
        "\n",
        "print(type(s1)) # type 자료유형"
      ],
      "metadata": {
        "colab": {
          "base_uri": "https://localhost:8080/"
        },
        "id": "YgrjZc3YtTYa",
        "outputId": "50fed1ab-4d22-4fbb-bf53-dcb573db1270"
      },
      "execution_count": null,
      "outputs": [
        {
          "output_type": "stream",
          "name": "stdout",
          "text": [
            "{1, 2, 3, 4}\n",
            "<class 'set'>\n"
          ]
        }
      ]
    },
    {
      "cell_type": "code",
      "source": [
        "# Boolean True False (반드시 대문자)\n",
        "\n"
      ],
      "metadata": {
        "id": "5ZZL_HQFumsI"
      },
      "execution_count": null,
      "outputs": []
    },
    {
      "cell_type": "code",
      "source": [
        "# 숙제용 문법\n",
        "\n",
        "a = \"hi\"\n",
        "print(a)"
      ],
      "metadata": {
        "colab": {
          "base_uri": "https://localhost:8080/"
        },
        "id": "oEBgsg0Zz1JG",
        "outputId": "b791413b-8fd6-481d-c799-69d03a491cce"
      },
      "execution_count": null,
      "outputs": [
        {
          "output_type": "stream",
          "name": "stdout",
          "text": [
            "hi\n"
          ]
        }
      ]
    },
    {
      "cell_type": "code",
      "source": [
        "a = input(\"출력할 내용을 입력하세요\")\n",
        "print(\"입력하신 내용은 \", a, \"입니다\")"
      ],
      "metadata": {
        "colab": {
          "base_uri": "https://localhost:8080/"
        },
        "id": "pWSScXtL0CHW",
        "outputId": "1973fc95-baab-4f66-bae8-05f212de484c"
      },
      "execution_count": null,
      "outputs": [
        {
          "output_type": "stream",
          "name": "stdout",
          "text": [
            "출력할 내용을 입력하세요반갑습니다\n",
            "입력하신 내용은  반갑습니다 입니다\n"
          ]
        }
      ]
    },
    {
      "cell_type": "code",
      "source": [
        "# int = 형변환"
      ],
      "metadata": {
        "id": "OMW-8fRe37NN"
      },
      "execution_count": null,
      "outputs": []
    }
  ]
}