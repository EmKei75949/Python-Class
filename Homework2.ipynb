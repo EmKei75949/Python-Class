{
  "nbformat": 4,
  "nbformat_minor": 0,
  "metadata": {
    "colab": {
      "provenance": [],
      "authorship_tag": "ABX9TyON++hGm2RvDJWpbZmEFiDH",
      "include_colab_link": true
    },
    "kernelspec": {
      "name": "python3",
      "display_name": "Python 3"
    },
    "language_info": {
      "name": "python"
    }
  },
  "cells": [
    {
      "cell_type": "markdown",
      "metadata": {
        "id": "view-in-github",
        "colab_type": "text"
      },
      "source": [
        "<a href=\"https://colab.research.google.com/github/EmKei75949/Python-Class/blob/main/Homework2.ipynb\" target=\"_parent\"><img src=\"https://colab.research.google.com/assets/colab-badge.svg\" alt=\"Open In Colab\"/></a>"
      ]
    },
    {
      "cell_type": "code",
      "execution_count": null,
      "metadata": {
        "colab": {
          "base_uri": "https://localhost:8080/"
        },
        "id": "vqPDZsl2ve0u",
        "outputId": "4bf06522-5db2-4bf5-9559-baac9c6cb7c1"
      },
      "outputs": [
        {
          "output_type": "stream",
          "name": "stdout",
          "text": [
            "p t\n"
          ]
        }
      ],
      "source": [
        "# 021\n",
        "\n",
        "letters = 'python'\n",
        "\n",
        "print(letters[0], letters[2])"
      ]
    },
    {
      "cell_type": "code",
      "source": [
        "# 022\n",
        "\n",
        "license_plate = \"24가 2210\"\n",
        "\n",
        "print(license_plate[4:])"
      ],
      "metadata": {
        "colab": {
          "base_uri": "https://localhost:8080/"
        },
        "id": "xAfwv51BwiCJ",
        "outputId": "628c2f8f-a3be-4466-cb5d-8e1a92000f42"
      },
      "execution_count": null,
      "outputs": [
        {
          "output_type": "stream",
          "name": "stdout",
          "text": [
            "2210\n"
          ]
        }
      ]
    },
    {
      "cell_type": "code",
      "source": [
        "# 023\n",
        "\n",
        "string = \"홀짝홀짝홀짝\"\n",
        "\n",
        "print(string[0], string[2], string[4])"
      ],
      "metadata": {
        "colab": {
          "base_uri": "https://localhost:8080/"
        },
        "id": "xTqq4CCPw2Bh",
        "outputId": "648cc0d3-aed0-4c6f-b561-d3efa70ac955"
      },
      "execution_count": null,
      "outputs": [
        {
          "output_type": "stream",
          "name": "stdout",
          "text": [
            "홀 홀 홀\n"
          ]
        }
      ]
    },
    {
      "cell_type": "code",
      "source": [
        "# 024\n",
        "\n",
        "string = \"PYTHON\"\n",
        "\n",
        "string_list = list(string)\n",
        "\n",
        "print(string_list)\n",
        "\n",
        "string_list.reverse()\n",
        "\n",
        "print(string_list)"
      ],
      "metadata": {
        "colab": {
          "base_uri": "https://localhost:8080/"
        },
        "id": "bjohmkMWxVSr",
        "outputId": "f61ff7e6-22be-4bfe-ac4a-c5b17c186f68"
      },
      "execution_count": null,
      "outputs": [
        {
          "output_type": "stream",
          "name": "stdout",
          "text": [
            "['P', 'Y', 'T', 'H', 'O', 'N']\n",
            "['N', 'O', 'H', 'T', 'Y', 'P']\n"
          ]
        }
      ]
    },
    {
      "cell_type": "code",
      "source": [
        "# 025\n",
        "\n",
        "phone_number = \"010-1111-2222\"\n",
        "\n",
        "pn = phone_number.replace(\"-\", \" \")\n",
        "\n",
        "print(pn)\n",
        "\n",
        "# 026\n",
        "\n",
        "pn_ad = pn.replace(\" \", \"\")\n",
        "print(pn_ad)"
      ],
      "metadata": {
        "colab": {
          "base_uri": "https://localhost:8080/"
        },
        "id": "AAWLXQNIzGkP",
        "outputId": "d8d72c17-9c94-4eb9-94d8-b8b8e550db25"
      },
      "execution_count": null,
      "outputs": [
        {
          "output_type": "stream",
          "name": "stdout",
          "text": [
            "010 1111 2222\n",
            "01011112222\n"
          ]
        }
      ]
    },
    {
      "cell_type": "code",
      "source": [
        "# 027\n",
        "\n",
        "url = \"http://sharebook.kr\"\n",
        "\n",
        "len(url)\n",
        "\n",
        "url[17:19]"
      ],
      "metadata": {
        "colab": {
          "base_uri": "https://localhost:8080/",
          "height": 35
        },
        "id": "7UW_CrEl12Ex",
        "outputId": "775bca21-bee6-4d4b-db79-07f6d4dcb6f5"
      },
      "execution_count": null,
      "outputs": [
        {
          "output_type": "execute_result",
          "data": {
            "text/plain": [
              "'kr'"
            ],
            "application/vnd.google.colaboratory.intrinsic+json": {
              "type": "string"
            }
          },
          "metadata": {},
          "execution_count": 32
        }
      ]
    },
    {
      "cell_type": "code",
      "source": [
        "# 028\n",
        "\n",
        "lang = 'python'\n",
        "\n",
        "lang[0] = 'p'\n",
        "\n",
        "print(lang)"
      ],
      "metadata": {
        "colab": {
          "base_uri": "https://localhost:8080/",
          "height": 248
        },
        "id": "bzhqqlJh4VMB",
        "outputId": "124470e0-e818-46e6-8318-bd1b15cbd566"
      },
      "execution_count": null,
      "outputs": [
        {
          "output_type": "error",
          "ename": "TypeError",
          "evalue": "ignored",
          "traceback": [
            "\u001b[0;31m---------------------------------------------------------------------------\u001b[0m",
            "\u001b[0;31mTypeError\u001b[0m                                 Traceback (most recent call last)",
            "\u001b[0;32m<ipython-input-33-c84af5b3ce34>\u001b[0m in \u001b[0;36m<module>\u001b[0;34m\u001b[0m\n\u001b[1;32m      3\u001b[0m \u001b[0mlang\u001b[0m \u001b[0;34m=\u001b[0m \u001b[0;34m'python'\u001b[0m\u001b[0;34m\u001b[0m\u001b[0;34m\u001b[0m\u001b[0m\n\u001b[1;32m      4\u001b[0m \u001b[0;34m\u001b[0m\u001b[0m\n\u001b[0;32m----> 5\u001b[0;31m \u001b[0mlang\u001b[0m\u001b[0;34m[\u001b[0m\u001b[0;36m0\u001b[0m\u001b[0;34m]\u001b[0m \u001b[0;34m=\u001b[0m \u001b[0;34m'p'\u001b[0m\u001b[0;34m\u001b[0m\u001b[0;34m\u001b[0m\u001b[0m\n\u001b[0m\u001b[1;32m      6\u001b[0m \u001b[0;34m\u001b[0m\u001b[0m\n\u001b[1;32m      7\u001b[0m \u001b[0mprint\u001b[0m\u001b[0;34m(\u001b[0m\u001b[0mlang\u001b[0m\u001b[0;34m)\u001b[0m\u001b[0;34m\u001b[0m\u001b[0;34m\u001b[0m\u001b[0m\n",
            "\u001b[0;31mTypeError\u001b[0m: 'str' object does not support item assignment"
          ]
        }
      ]
    },
    {
      "cell_type": "code",
      "source": [
        "# 029\n",
        "\n",
        "string = 'abcdfe2a354a32a'\n",
        "\n",
        "capital_a = string.replace('a', 'A')\n",
        "\n",
        "print(capital_a)"
      ],
      "metadata": {
        "colab": {
          "base_uri": "https://localhost:8080/"
        },
        "id": "4nPxffAb4qDU",
        "outputId": "d834f0e0-3f0e-4e33-d5e0-4a61be7b6e4c"
      },
      "execution_count": null,
      "outputs": [
        {
          "output_type": "stream",
          "name": "stdout",
          "text": [
            "Abcdfe2A354A32A\n"
          ]
        }
      ]
    },
    {
      "cell_type": "code",
      "source": [
        "# 030\n",
        "\n",
        "string = 'abcd'\n",
        "\n",
        "a = string.replace('b', 'B')\n",
        "\n",
        "print(a)\n"
      ],
      "metadata": {
        "colab": {
          "base_uri": "https://localhost:8080/"
        },
        "id": "DId5MOun5NaL",
        "outputId": "0804828b-c4b5-4681-8dad-07f6e4575ef4"
      },
      "execution_count": null,
      "outputs": [
        {
          "output_type": "stream",
          "name": "stdout",
          "text": [
            "aBcd\n"
          ]
        }
      ]
    },
    {
      "cell_type": "code",
      "source": [
        "# 031\n",
        "\n",
        "a = '3'\n",
        "b = '4'\n",
        "\n",
        "print(a+b)"
      ],
      "metadata": {
        "colab": {
          "base_uri": "https://localhost:8080/"
        },
        "id": "NxxSal2A5WhT",
        "outputId": "aaad2cf6-10d3-4c07-cd36-cad13ebe3537"
      },
      "execution_count": null,
      "outputs": [
        {
          "output_type": "stream",
          "name": "stdout",
          "text": [
            "34\n"
          ]
        }
      ]
    },
    {
      "cell_type": "code",
      "source": [
        "# 032\n",
        "\n",
        "print('Hi'*3)"
      ],
      "metadata": {
        "colab": {
          "base_uri": "https://localhost:8080/"
        },
        "id": "6OhBQa4o5eux",
        "outputId": "09c45a58-efe2-4323-e263-c849f8cf4bd0"
      },
      "execution_count": null,
      "outputs": [
        {
          "output_type": "stream",
          "name": "stdout",
          "text": [
            "HiHiHi\n"
          ]
        }
      ]
    },
    {
      "cell_type": "code",
      "source": [
        "# 033\n",
        "\n",
        "print('-'*80)"
      ],
      "metadata": {
        "colab": {
          "base_uri": "https://localhost:8080/"
        },
        "id": "sjPz2HxB5kzi",
        "outputId": "6c8f69bd-b4a4-46d0-ba8b-119d445b4341"
      },
      "execution_count": null,
      "outputs": [
        {
          "output_type": "stream",
          "name": "stdout",
          "text": [
            "--------------------------------------------------------------------------------\n"
          ]
        }
      ]
    },
    {
      "cell_type": "code",
      "source": [
        "# 034\n",
        "\n",
        "t1 = 'python'\n",
        "t2 = 'java'\n",
        "\n",
        "print((t1+\" \"+t2+\" \")*4)"
      ],
      "metadata": {
        "colab": {
          "base_uri": "https://localhost:8080/"
        },
        "id": "r7TVHflH5qJx",
        "outputId": "531aaa0e-bb7c-444d-be38-fee409eb49b3"
      },
      "execution_count": null,
      "outputs": [
        {
          "output_type": "stream",
          "name": "stdout",
          "text": [
            "python java python java python java python java \n"
          ]
        }
      ]
    },
    {
      "cell_type": "code",
      "source": [
        "# 035\n",
        "\n",
        "name1 = '김민수'\n",
        "\n",
        "age1 = 10\n",
        "\n",
        "name2 = '이철희'\n",
        "\n",
        "age2 = 13\n",
        "\n",
        "print('이름 :', name1, '나이 :', age1, ' 이름 :', name2, '나이 :', age2)\n",
        "\n",
        "print(\"이름 : %s 나이 : %d  이름 : %s 나이 : %d\" %('김민수', 10, '이철희', 13))\n",
        "\n",
        "# 036\n",
        "\n",
        "print('이름 : {0} 나이 : {1}  이름 : {2} 나이 : {3}'.format('김민수', '10', '이철희', '13'))\n",
        "\n",
        "# 037\n",
        "\n",
        "print(f'이름 : {name1} 나이 : {age1}  이름 : {name2} 나이 : {age2}')"
      ],
      "metadata": {
        "colab": {
          "base_uri": "https://localhost:8080/"
        },
        "id": "GUE3o2Qt5-33",
        "outputId": "48edadb0-1282-412c-baa2-59fb931de2f1"
      },
      "execution_count": null,
      "outputs": [
        {
          "output_type": "stream",
          "name": "stdout",
          "text": [
            "이름 : 김민수 나이 : 10  이름 : 이철희 나이 : 13\n",
            "이름 : 김민수 나이 : 10  이름 : 이철희 나이 : 13\n",
            "이름 : 김민수 나이 : 10  이름 : 이철희 나이 : 13\n",
            "이름 : 김민수 나이 : 10  이름 : 이철희 나이 : 13\n"
          ]
        }
      ]
    },
    {
      "cell_type": "code",
      "source": [
        "# 038\n",
        "\n",
        "상장주식수 = \"5,969,782,550\"\n",
        "\n",
        "a = 상장주식수.replace(\",\", \"\")\n",
        "\n",
        "print(a)\n",
        "\n",
        "print(type(a))\n",
        "\n",
        "b = int(a)\n",
        "\n",
        "print(b)\n",
        "\n",
        "print(type(b))"
      ],
      "metadata": {
        "colab": {
          "base_uri": "https://localhost:8080/"
        },
        "id": "GVp4pT7i99xl",
        "outputId": "e21a2a08-7bef-49c4-94c1-be2e7a29042e"
      },
      "execution_count": null,
      "outputs": [
        {
          "output_type": "stream",
          "name": "stdout",
          "text": [
            "5969782550\n",
            "<class 'str'>\n",
            "5969782550\n",
            "<class 'int'>\n"
          ]
        }
      ]
    },
    {
      "cell_type": "code",
      "source": [
        "# 039\n",
        "\n",
        "분기 = \"2020/03(E) (IFRS연결)\"\n",
        "\n",
        "print(분기[0:7])"
      ],
      "metadata": {
        "colab": {
          "base_uri": "https://localhost:8080/"
        },
        "id": "OJq7m-To-i3f",
        "outputId": "d5b41545-1d59-4d3e-adb5-716cd63b9271"
      },
      "execution_count": null,
      "outputs": [
        {
          "output_type": "stream",
          "name": "stdout",
          "text": [
            "2020/03\n"
          ]
        }
      ]
    },
    {
      "cell_type": "code",
      "source": [
        "# 040\n",
        "\n",
        "data = \"  삼성전자  \"\n",
        "\n",
        "a = data.replace(\"  \",\"\")\n",
        "print(a)"
      ],
      "metadata": {
        "colab": {
          "base_uri": "https://localhost:8080/"
        },
        "id": "O1F94r1w-0fM",
        "outputId": "6e72e691-b1b6-4032-d7b2-0d3c8eb94116"
      },
      "execution_count": null,
      "outputs": [
        {
          "output_type": "stream",
          "name": "stdout",
          "text": [
            "삼성전자\n"
          ]
        }
      ]
    }
  ]
}