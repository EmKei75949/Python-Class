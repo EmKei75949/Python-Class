{
 "cells": [
  {
   "cell_type": "code",
   "execution_count": 1,
   "id": "38f65f56",
   "metadata": {},
   "outputs": [
    {
     "name": "stdout",
     "output_type": "stream",
     "text": [
      "Hello World\n"
     ]
    }
   ],
   "source": [
    "print(\"Hello World\")"
   ]
  },
  {
   "cell_type": "code",
   "execution_count": 3,
   "id": "a4a87be5",
   "metadata": {},
   "outputs": [
    {
     "name": "stdout",
     "output_type": "stream",
     "text": [
      "택시를 타자\n"
     ]
    }
   ],
   "source": [
    "money = True\n",
    "\n",
    "if money == True :\n",
    "    print(\"택시를 타자\")\n",
    "else :\n",
    "    print(\"걸어가자\")\n"
   ]
  },
  {
   "cell_type": "code",
   "execution_count": 6,
   "id": "b1e073c5",
   "metadata": {},
   "outputs": [
    {
     "name": "stdout",
     "output_type": "stream",
     "text": [
      "택시를 타자\n"
     ]
    }
   ],
   "source": [
    "money = 10000\n",
    "\n",
    "if money >= 5000 :\n",
    "    print(\"택시를 타자\")\n",
    "elif money >= 1000 :\n",
    "    print(\"버스를 타자\")\n",
    "else :\n",
    "    print(\"걸어가자\")"
   ]
  },
  {
   "cell_type": "code",
   "execution_count": null,
   "id": "d280c64d",
   "metadata": {},
   "outputs": [],
   "source": [
    "# 학생의 성적을 입력 받아서 \n",
    "# 점수가 90 이상이면 \"A학점 입니다.\"\n",
    "# 점수가 80 이상이면 \"B학점 입니다.\"\n",
    "# 점수가 70 이상이면 \"C학점 입니다.\"\n",
    "# 점수가 60 이상이면 \"D학점 입니다.\"\n",
    "# 나머지는 모두 \"F학점 입니다.\""
   ]
  },
  {
   "cell_type": "code",
   "execution_count": 10,
   "id": "1e3924bb",
   "metadata": {},
   "outputs": [
    {
     "name": "stdout",
     "output_type": "stream",
     "text": [
      "성적을 입력하세요 : 90\n",
      "A학점\n"
     ]
    }
   ],
   "source": [
    "score = int(input(\"성적을 입력하세요 : \"))\n",
    "\n",
    "if score >= 90 :\n",
    "    print(\"A학점\")\n",
    "elif score >= 80 :\n",
    "    print(\"B학점\")\n",
    "elif score >= 70 :\n",
    "    print(\"C학점\")\n",
    "elif score >= 60 :\n",
    "    print(\"D학점\")\n",
    "else :\n",
    "    print(\"F학점\")"
   ]
  },
  {
   "cell_type": "code",
   "execution_count": 11,
   "id": "0f72c36b",
   "metadata": {},
   "outputs": [
    {
     "name": "stdout",
     "output_type": "stream",
     "text": [
      "10\n",
      "9\n",
      "8\n",
      "7\n",
      "6\n",
      "5\n",
      "4\n",
      "3\n",
      "2\n",
      "1\n",
      "0\n"
     ]
    }
   ],
   "source": [
    "# while\n",
    "\n",
    "no = 10\n",
    "\n",
    "while no >= 0 :\n",
    "    print(no)\n",
    "    no = no - 1"
   ]
  },
  {
   "cell_type": "code",
   "execution_count": 13,
   "id": "9c74537a",
   "metadata": {},
   "outputs": [
    {
     "name": "stdout",
     "output_type": "stream",
     "text": [
      "1. 덧셈 / 2. 뺄셈 / 3. 곱셈 / 4. 나눗셈 / 5. 종료\n",
      "1\n",
      "1. 덧셈 / 2. 뺄셈 / 3. 곱셈 / 4. 나눗셈 / 5. 종료\n",
      "2\n",
      "1. 덧셈 / 2. 뺄셈 / 3. 곱셈 / 4. 나눗셈 / 5. 종료\n",
      "3\n",
      "1. 덧셈 / 2. 뺄셈 / 3. 곱셈 / 4. 나눗셈 / 5. 종료\n",
      "4\n",
      "1. 덧셈 / 2. 뺄셈 / 3. 곱셈 / 4. 나눗셈 / 5. 종료\n",
      "5\n"
     ]
    }
   ],
   "source": [
    "prompt = \"1. 덧셈 / 2. 뺄셈 / 3. 곱셈 / 4. 나눗셈 / 5. 종료\"\n",
    "no = 0\n",
    "\n",
    "while no <= 4 :\n",
    "    print(prompt)\n",
    "    no = int(input())\n",
    "    "
   ]
  },
  {
   "cell_type": "code",
   "execution_count": 14,
   "id": "f22560d1",
   "metadata": {},
   "outputs": [
    {
     "name": "stdout",
     "output_type": "stream",
     "text": [
      "0\n",
      "1\n",
      "2\n",
      "3\n",
      "4\n",
      "5\n",
      "6\n",
      "7\n",
      "8\n",
      "9\n",
      "10\n"
     ]
    }
   ],
   "source": [
    "# while문의 경우에는 반복 횟수가 정확하지 않을 경우가 많기 때문에 조건에서 뿐만 아니라 중간에 반복을 종료시키는 방법도 필요하다.\n",
    "\n",
    "no = 0\n",
    "\n",
    "while no <= 10 :\n",
    "    print(no)\n",
    "    no = no + 1"
   ]
  },
  {
   "cell_type": "code",
   "execution_count": 16,
   "id": "60686621",
   "metadata": {},
   "outputs": [
    {
     "name": "stdout",
     "output_type": "stream",
     "text": [
      "0\n",
      "1\n",
      "2\n",
      "3\n",
      "4\n",
      "5\n",
      "6\n",
      "7\n",
      "8\n",
      "9\n",
      "10\n"
     ]
    }
   ],
   "source": [
    "no = 0\n",
    "\n",
    "while True :\n",
    "    print(no)\n",
    "    no = no + 1\n",
    "    \n",
    "    if no > 10 :\n",
    "        break # while문 강종\n",
    "        "
   ]
  },
  {
   "cell_type": "code",
   "execution_count": 2,
   "id": "698cc31d",
   "metadata": {},
   "outputs": [
    {
     "ename": "SyntaxError",
     "evalue": "invalid syntax (2375070480.py, line 9)",
     "output_type": "error",
     "traceback": [
      "\u001b[1;36m  File \u001b[1;32m\"C:\\Users\\EZEN\\AppData\\Local\\Temp\\ipykernel_2544\\2375070480.py\"\u001b[1;36m, line \u001b[1;32m9\u001b[0m\n\u001b[1;33m    else no == 100 :\u001b[0m\n\u001b[1;37m         ^\u001b[0m\n\u001b[1;31mSyntaxError\u001b[0m\u001b[1;31m:\u001b[0m invalid syntax\n"
     ]
    }
   ],
   "source": [
    "no = 1\n",
    "sum = 0\n",
    "\n",
    "while no < 100 :\n",
    "    if no % 3 == 0 :\n",
    "        sum = sum + no\n",
    "        no = no + 1\n",
    "    \n",
    "    else no == 100 :\n",
    "        break\n",
    "\n",
    "print(sum)"
   ]
  },
  {
   "cell_type": "code",
   "execution_count": 1,
   "id": "1c9d12b1",
   "metadata": {},
   "outputs": [
    {
     "name": "stdout",
     "output_type": "stream",
     "text": [
      "1683\n"
     ]
    }
   ],
   "source": [
    "no = 1\n",
    "sum = 0\n",
    "\n",
    "while no <= 100 :\n",
    "    if no % 3 == 0 :\n",
    "        sum = sum + no\n",
    "    \n",
    "    no = no + 1  # no += 1\n",
    "    \n",
    "print(sum)"
   ]
  },
  {
   "cell_type": "code",
   "execution_count": 4,
   "id": "b118be3b",
   "metadata": {
    "scrolled": true
   },
   "outputs": [
    {
     "name": "stdout",
     "output_type": "stream",
     "text": [
      "1\n",
      "2\n",
      "3\n",
      "4\n",
      "5\n",
      "6\n",
      "7\n",
      "8\n",
      "9\n",
      "10\n"
     ]
    }
   ],
   "source": [
    "# for 구문\n",
    "\n",
    "for i in [1,2,3,4,5,6,7,8,9,10] :\n",
    "    print(i)"
   ]
  },
  {
   "cell_type": "code",
   "execution_count": 8,
   "id": "a78a7fd7",
   "metadata": {},
   "outputs": [
    {
     "name": "stdout",
     "output_type": "stream",
     "text": [
      "1 번째 학생은 불합격입니다.\n",
      "2 번째 학생은 합격입니다.\n",
      "3 번째 학생은 불합격입니다.\n",
      "4 번째 학생은 불합격입니다.\n",
      "5 번째 학생은 합격입니다.\n"
     ]
    }
   ],
   "source": [
    "math = [80,90,70,70,100]\n",
    "\n",
    "j = 1\n",
    "for i in math : \n",
    "    if i >= 90 :\n",
    "        print(j, \"번째 학생은 합격입니다.\")\n",
    "    else :\n",
    "        print(j, \"번째 학생은 불합격입니다.\")\n",
    "    j += 1"
   ]
  },
  {
   "cell_type": "code",
   "execution_count": 9,
   "id": "1a0bfb50",
   "metadata": {},
   "outputs": [
    {
     "name": "stdout",
     "output_type": "stream",
     "text": [
      "1\n",
      "2\n",
      "3\n",
      "4\n",
      "5\n",
      "6\n",
      "7\n",
      "8\n",
      "9\n",
      "10\n"
     ]
    }
   ],
   "source": [
    "for i in [1,2,3,4,5,6,7,8,9,10] :\n",
    "    print(i)"
   ]
  },
  {
   "cell_type": "code",
   "execution_count": 10,
   "id": "f678dd42",
   "metadata": {},
   "outputs": [
    {
     "name": "stdout",
     "output_type": "stream",
     "text": [
      "2\n",
      "4\n",
      "6\n",
      "8\n",
      "10\n"
     ]
    }
   ],
   "source": [
    "for i in [1,2,3,4,5,6,7,8,9,10] :\n",
    "    if i % 2 == 0 :\n",
    "        print(i)"
   ]
  },
  {
   "cell_type": "code",
   "execution_count": 11,
   "id": "59b04235",
   "metadata": {},
   "outputs": [
    {
     "name": "stdout",
     "output_type": "stream",
     "text": [
      "2\n",
      "4\n",
      "6\n",
      "8\n",
      "10\n"
     ]
    }
   ],
   "source": [
    "for i in [1,2,3,4,5,6,7,8,9,10] :\n",
    "    if i % 2 != 0 :\n",
    "        continue\n",
    "        \n",
    "    print(i)"
   ]
  },
  {
   "cell_type": "code",
   "execution_count": 12,
   "id": "b4c2e63d",
   "metadata": {},
   "outputs": [
    {
     "name": "stdout",
     "output_type": "stream",
     "text": [
      "range(1, 11)\n"
     ]
    }
   ],
   "source": [
    "# range 함수\n",
    "\n",
    "# 숫자를 자동으로 생성해준다. for문과 함께 사용되는 경우가 아주 많다.\n",
    "\n",
    "print(range(1,11))"
   ]
  },
  {
   "cell_type": "code",
   "execution_count": 13,
   "id": "db004d20",
   "metadata": {},
   "outputs": [
    {
     "name": "stdout",
     "output_type": "stream",
     "text": [
      "1\n",
      "2\n",
      "3\n",
      "4\n",
      "5\n",
      "6\n",
      "7\n",
      "8\n",
      "9\n",
      "10\n"
     ]
    }
   ],
   "source": [
    "for i in range(1,11) : # 두 번째 숫자는 미만\n",
    "    print(i)"
   ]
  },
  {
   "cell_type": "code",
   "execution_count": 16,
   "id": "14ea4e72",
   "metadata": {},
   "outputs": [
    {
     "name": "stdout",
     "output_type": "stream",
     "text": [
      "2\t4\t6\t8\t10\t12\t14\t16\t18\t\n",
      "3\t6\t9\t12\t15\t18\t21\t24\t27\t\n",
      "4\t8\t12\t16\t20\t24\t28\t32\t36\t\n",
      "5\t10\t15\t20\t25\t30\t35\t40\t45\t\n",
      "6\t12\t18\t24\t30\t36\t42\t48\t54\t\n",
      "7\t14\t21\t28\t35\t42\t49\t56\t63\t\n",
      "8\t16\t24\t32\t40\t48\t56\t64\t72\t\n",
      "9\t18\t27\t36\t45\t54\t63\t72\t81\t\n"
     ]
    }
   ],
   "source": [
    "# for문으로 구구단 출력하기\n",
    "\n",
    "for i in range(2,10) : # i 는 단을 표현\n",
    "    for j in range(1,10) :\n",
    "        print(i*j, end = \"\\t\")\n",
    "    print()"
   ]
  },
  {
   "cell_type": "code",
   "execution_count": 36,
   "id": "a6948a91",
   "metadata": {
    "scrolled": true
   },
   "outputs": [
    {
     "name": "stdout",
     "output_type": "stream",
     "text": [
      "2\n",
      "4\n",
      "6\n",
      "8\n",
      "10\n",
      "12\n",
      "14\n",
      "16\n",
      "18\n",
      "\n",
      "3\n",
      "6\n",
      "9\n",
      "12\n",
      "15\n",
      "18\n",
      "21\n",
      "24\n",
      "27\n",
      "\n",
      "4\n",
      "8\n",
      "12\n",
      "16\n",
      "20\n",
      "24\n",
      "28\n",
      "32\n",
      "36\n",
      "\n",
      "5\n",
      "10\n",
      "15\n",
      "20\n",
      "25\n",
      "30\n",
      "35\n",
      "40\n",
      "45\n",
      "\n",
      "6\n",
      "12\n",
      "18\n",
      "24\n",
      "30\n",
      "36\n",
      "42\n",
      "48\n",
      "54\n",
      "\n",
      "7\n",
      "14\n",
      "21\n",
      "28\n",
      "35\n",
      "42\n",
      "49\n",
      "56\n",
      "63\n",
      "\n",
      "8\n",
      "16\n",
      "24\n",
      "32\n",
      "40\n",
      "48\n",
      "56\n",
      "64\n",
      "72\n",
      "\n",
      "9\n",
      "18\n",
      "27\n",
      "36\n",
      "45\n",
      "54\n",
      "63\n",
      "72\n",
      "81\n",
      "\n"
     ]
    }
   ],
   "source": [
    "for i in range(2,10) :\n",
    "    for j in range(1,10) :\n",
    "        print(i*j, end = \"\\n\")\n",
    "    print()"
   ]
  },
  {
   "cell_type": "code",
   "execution_count": 40,
   "id": "8a37e80e",
   "metadata": {},
   "outputs": [
    {
     "name": "stdout",
     "output_type": "stream",
     "text": [
      "2550\n"
     ]
    }
   ],
   "source": [
    "# range를 사용하여 100 이하의 수 중 짝수들만의 합계를 구하세요\n",
    "\n",
    "sum = 0\n",
    "\n",
    "for i in range(1,101) :\n",
    "    if i % 2 == 0 :\n",
    "        sum += i\n",
    "        \n",
    "print(sum)        "
   ]
  },
  {
   "cell_type": "code",
   "execution_count": 44,
   "id": "9795090e",
   "metadata": {},
   "outputs": [
    {
     "name": "stdout",
     "output_type": "stream",
     "text": [
      "2550\n"
     ]
    }
   ],
   "source": [
    "# range(start, stop, step)\n",
    "\n",
    "# start를 생략하면 0에서 시작\n",
    "\n",
    "# stop을 생략하면 1씩 증가\n",
    "\n",
    "sum = 0\n",
    "\n",
    "for i in range(0, 101, 2) :\n",
    "    sum += i\n",
    "\n",
    "print(sum)"
   ]
  },
  {
   "cell_type": "code",
   "execution_count": 48,
   "id": "647cc50f",
   "metadata": {},
   "outputs": [
    {
     "name": "stdout",
     "output_type": "stream",
     "text": [
      "[1, 2, 3, 4]\n",
      "[1, 2, 3, 4]\n",
      "[2, 4, 6, 8]\n",
      "[2, 4]\n"
     ]
    }
   ],
   "source": [
    "# 리스트 축약/내포 List Comprehension\n",
    "\n",
    "# 리스트를 좀 더 편리하고 직관적으로 만드는 방법이다.\n",
    "\n",
    "list1 = [1,2,3,4]\n",
    "print(list1)\n",
    "\n",
    "list2 = [num for num in list1]\n",
    "print(list2)\n",
    "\n",
    "list3 = [num*2 for num in list1]\n",
    "print(list3)\n",
    "\n",
    "list4 = [num for num in list1 if num % 2 == 0]\n",
    "print(list4)"
   ]
  },
  {
   "cell_type": "code",
   "execution_count": 51,
   "id": "a85bce19",
   "metadata": {},
   "outputs": [
    {
     "name": "stdout",
     "output_type": "stream",
     "text": [
      "합격입니다\n"
     ]
    },
    {
     "data": {
      "text/plain": [
       "'불합격입니다'"
      ]
     },
     "execution_count": 51,
     "metadata": {},
     "output_type": "execute_result"
    }
   ],
   "source": [
    "no = 70\n",
    "\n",
    "if no >= 70 :\n",
    "    print(\"합격입니다\")\n",
    "else :\n",
    "    print(\"불합격입니다\")\n",
    "    \n",
    "\"합격입니다\"    if no >= 80   else \"불합격입니다\"    # True , 조건문, False"
   ]
  },
  {
   "cell_type": "code",
   "execution_count": null,
   "id": "af7cbf8a",
   "metadata": {},
   "outputs": [],
   "source": []
  }
 ],
 "metadata": {
  "kernelspec": {
   "display_name": "Python 3 (ipykernel)",
   "language": "python",
   "name": "python3"
  },
  "language_info": {
   "codemirror_mode": {
    "name": "ipython",
    "version": 3
   },
   "file_extension": ".py",
   "mimetype": "text/x-python",
   "name": "python",
   "nbconvert_exporter": "python",
   "pygments_lexer": "ipython3",
   "version": "3.9.13"
  }
 },
 "nbformat": 4,
 "nbformat_minor": 5
}
