{
  "nbformat": 4,
  "nbformat_minor": 0,
  "metadata": {
    "colab": {
      "provenance": [],
      "authorship_tag": "ABX9TyMGXUICnU3ZRAZsuhfXP3GP",
      "include_colab_link": true
    },
    "kernelspec": {
      "name": "python3",
      "display_name": "Python 3"
    },
    "language_info": {
      "name": "python"
    }
  },
  "cells": [
    {
      "cell_type": "markdown",
      "metadata": {
        "id": "view-in-github",
        "colab_type": "text"
      },
      "source": [
        "<a href=\"https://colab.research.google.com/github/EmKei75949/Python-Class/blob/main/Homework5.ipynb\" target=\"_parent\"><img src=\"https://colab.research.google.com/assets/colab-badge.svg\" alt=\"Open In Colab\"/></a>"
      ]
    },
    {
      "cell_type": "code",
      "execution_count": null,
      "metadata": {
        "colab": {
          "base_uri": "https://localhost:8080/"
        },
        "id": "P31bO6QP2KcF",
        "outputId": "96980245-6601-455f-98cb-cabb0c8aa7f8"
      },
      "outputs": [
        {
          "output_type": "stream",
          "name": "stdout",
          "text": [
            "Enter your First Name : Min Ki\n",
            "Hello [ Min Ki ]\n"
          ]
        }
      ],
      "source": [
        "# 001\n",
        "\n",
        "a = input(\"Enter your First Name : \")\n",
        "\n",
        "print(\"Hello\", \"[\", a, \"]\")"
      ]
    },
    {
      "cell_type": "code",
      "source": [
        "# 002\n",
        "\n",
        "a = input(\"Enter your First Name : \")\n",
        "b = input(\"Enter your Surname : \")\n",
        "\n",
        "print(\"Hello\", \"[\", a, \"]\", \"[\", b, \"]\")"
      ],
      "metadata": {
        "colab": {
          "base_uri": "https://localhost:8080/"
        },
        "id": "k-naNglL3Ou6",
        "outputId": "4fa2c5b2-79a4-4141-fe60-fe0aaface774"
      },
      "execution_count": null,
      "outputs": [
        {
          "output_type": "stream",
          "name": "stdout",
          "text": [
            "Enter your First Name : Min Ki\n",
            "Enter your Surname : Kim\n",
            "Hello [ Min Ki ] [ Kim ]\n"
          ]
        }
      ]
    },
    {
      "cell_type": "code",
      "source": [
        "# 003\n",
        "\n",
        "print(\"What do you call a bear with no teeth? \\nA Gummy bear!!\")"
      ],
      "metadata": {
        "colab": {
          "base_uri": "https://localhost:8080/"
        },
        "id": "Ju-IAn7G3n2V",
        "outputId": "026cd12d-fadf-4e67-9736-72be2fe5073d"
      },
      "execution_count": null,
      "outputs": [
        {
          "output_type": "stream",
          "name": "stdout",
          "text": [
            "What do you call a bear with no teeth? \n",
            "A Gummy bear!!\n"
          ]
        }
      ]
    },
    {
      "cell_type": "code",
      "source": [
        "# 004\n",
        "\n",
        "a = input(\"Enter a First Number : \")\n",
        "b = input(\"Enter a Second Number : \")\n",
        "\n",
        "print(\"The total is\", \"[\", float(a)+float(b), \"]\")"
      ],
      "metadata": {
        "colab": {
          "base_uri": "https://localhost:8080/"
        },
        "id": "Ri0Xc7fN4yu9",
        "outputId": "78343a88-927a-4e0e-a1f7-5d8226937aa7"
      },
      "execution_count": null,
      "outputs": [
        {
          "output_type": "stream",
          "name": "stdout",
          "text": [
            "Enter a First Number : 14\n",
            "Enter a Second Number : 41\n",
            "The total is [ 55.0 ]\n"
          ]
        }
      ]
    },
    {
      "cell_type": "code",
      "source": [
        "# 005\n",
        "\n",
        "a = input(\"Enter a First Number : \")\n",
        "b = input(\"Enter a Second Number : \")\n",
        "c = input(\"Enter a Third Number : \")\n",
        "\n",
        "print(\"The answer is\", \"[\", float(a)+float(b)+float(c), \"]\")"
      ],
      "metadata": {
        "colab": {
          "base_uri": "https://localhost:8080/"
        },
        "id": "d4EDNJqX6IMH",
        "outputId": "8b65d370-b1fc-4153-ce23-6aecdc88390e"
      },
      "execution_count": null,
      "outputs": [
        {
          "output_type": "stream",
          "name": "stdout",
          "text": [
            "Enter a First Number : 1\n",
            "Enter a Second Number : 16\n",
            "Enter a Third Number : 4\n",
            "The answer is [ 21.0 ]\n"
          ]
        }
      ]
    },
    {
      "cell_type": "code",
      "source": [
        "# 006\n",
        "\n",
        "a = input(\"Enter the 'How many slices of pizza you started?' : \")\n",
        "b = input(\"Enter the 'How many slices of pizza did you eat?' : \")\n",
        "\n",
        "print(\"There are\", int(a)-int(b), \"pieces of pizza left\")"
      ],
      "metadata": {
        "colab": {
          "base_uri": "https://localhost:8080/"
        },
        "id": "LHN_EIw56qRA",
        "outputId": "e652bbf9-3f51-44c6-f635-77136c11176a"
      },
      "execution_count": null,
      "outputs": [
        {
          "output_type": "stream",
          "name": "stdout",
          "text": [
            "Enter the 'How many slices of pizza you started?' : 10\n",
            "Enter the 'How many slices of pizza did you eat?' : 2\n",
            "There are 8 pieces of pizza left\n"
          ]
        }
      ]
    },
    {
      "cell_type": "code",
      "source": [
        "# 007\n",
        "\n",
        "a = input(\"Enter your Name : \")\n",
        "b = input(\"Enter your Age : \")\n",
        "\n",
        "print(\"[\", a, \"]\", \"next birthday you will be\", \"[\", int(b)+1,\"]\")"
      ],
      "metadata": {
        "colab": {
          "base_uri": "https://localhost:8080/"
        },
        "id": "kLMQtYAB84kJ",
        "outputId": "2b1150c9-fe16-4394-e567-2350656db0f4"
      },
      "execution_count": null,
      "outputs": [
        {
          "output_type": "stream",
          "name": "stdout",
          "text": [
            "Enter your Name : Min Ki\n",
            "Enter your Age : 28\n",
            "[ Min Ki ] next birthday you will be [ 29 ]\n"
          ]
        }
      ]
    },
    {
      "cell_type": "code",
      "source": [
        "# 008\n",
        "\n",
        "a = input(\"How many people there are? : \")\n",
        "b = input(\"Enter the total bill : \")\n",
        "\n",
        "print(\"Each person has to pay is\", int(b)/int(a), \"Won\")"
      ],
      "metadata": {
        "colab": {
          "base_uri": "https://localhost:8080/"
        },
        "id": "AXCvqqKy-8Oe",
        "outputId": "556a693c-152f-4887-a215-8c99d2c6d4d1"
      },
      "execution_count": null,
      "outputs": [
        {
          "output_type": "stream",
          "name": "stdout",
          "text": [
            "How many people there are? : 5\n",
            "Enter the total bill : 50000\n",
            "Each person has to pay is 10000.0 Won\n"
          ]
        }
      ]
    },
    {
      "cell_type": "code",
      "source": [
        "# 009\n",
        "\n",
        "a = input(\"Enter a number of days : \")\n",
        "\n",
        "print(\"This is Date Calculator\" \"\\n[\", int(a), \"days ]\" \"\\n[\", int(a)*24, \"hours ]\" \"\\n[\", int(a)*24*60, \"minutes ]\" \"\\n[\", int(a)*24*60*60, \"seconds ]\")"
      ],
      "metadata": {
        "colab": {
          "base_uri": "https://localhost:8080/"
        },
        "id": "x-yYjUqPAiJw",
        "outputId": "563e8778-6137-4197-ac4e-970193d79edd"
      },
      "execution_count": null,
      "outputs": [
        {
          "output_type": "stream",
          "name": "stdout",
          "text": [
            "Enter a number of days : 10\n",
            "This is Date Calculator\n",
            "[ 10 days ]\n",
            "[ 240 hours ]\n",
            "[ 14400 minutes ]\n",
            "[ 864000 seconds ]\n"
          ]
        }
      ]
    },
    {
      "cell_type": "code",
      "source": [
        "# 010\n",
        "\n",
        "a = input(\"Enter your Weight : \")\n",
        "\n",
        "print(\"Converter(kg to lb)\", float(a)*2.204623, \"lb\")"
      ],
      "metadata": {
        "colab": {
          "base_uri": "https://localhost:8080/"
        },
        "id": "Itd_jpClA0nq",
        "outputId": "f89d142b-e0c6-49f7-d82e-8735dd1e695c"
      },
      "execution_count": null,
      "outputs": [
        {
          "output_type": "stream",
          "name": "stdout",
          "text": [
            "Enter your Weight : 87\n",
            "Converter(kg to lb) 191.80220100000003 lb\n"
          ]
        }
      ]
    },
    {
      "cell_type": "code",
      "source": [
        "# 011\n",
        "\n",
        "a = input(\"Enter a number over 100 : \")\n",
        "b = input(\"Enter a number unber 10 : \")\n",
        "\n",
        "print(int(b), \"goes into\", int(a), int(a)/int(b), \"times\")"
      ],
      "metadata": {
        "colab": {
          "base_uri": "https://localhost:8080/"
        },
        "id": "92DxzBm4A112",
        "outputId": "ba50fea5-4c77-40c3-99c2-3f4a434b3919"
      },
      "execution_count": null,
      "outputs": [
        {
          "output_type": "stream",
          "name": "stdout",
          "text": [
            "Enter a number over 100 : 101\n",
            "Enter a number unber 10 : 1\n",
            "1 goes into 101 101.0 times\n"
          ]
        }
      ]
    }
  ]
}